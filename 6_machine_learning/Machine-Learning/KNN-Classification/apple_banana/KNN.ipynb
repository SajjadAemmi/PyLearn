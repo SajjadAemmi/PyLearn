{
  "cells": [
    {
      "cell_type": "code",
      "execution_count": 1,
      "metadata": {
        "id": "8RGLraB4YYPt"
      },
      "outputs": [],
      "source": [
        "import time\n",
        "import pandas as pd\n",
        "import numpy as np\n",
        "import matplotlib.pyplot as plt"
      ]
    },
    {
      "attachments": {},
      "cell_type": "markdown",
      "metadata": {
        "id": "y1wni5XDTplX"
      },
      "source": [
        "As shown in the figure below, the data constructed from two features of two kinds of fruits. Feature 1 is the length of fruit cross-section and feature 2 is the width of fruit cross-section.\n",
        "\n",
        "![image](https://www.fatalerrors.org/images/blog/c6b544ae87e97d71cb450e434a8818a6.jpg)\n",
        "\n",
        "* Banana width ≈ 4\n",
        "* Banana Length ≈ 8\n",
        "* Apple width ≈ 6\n",
        "* Apple width ≈ 6"
      ]
    },
    {
      "cell_type": "code",
      "execution_count": 2,
      "metadata": {
        "id": "JzrqNGw-laEY"
      },
      "outputs": [],
      "source": [
        "# banana = 0\n",
        "# apple = 1\n",
        "\n",
        "def generate_data(N):\n",
        "    std = 0.8\n",
        "\n",
        "    bananas_width = np.random.normal(4, std, N)\n",
        "    bananas_length = np.random.normal(8, std, N)\n",
        "\n",
        "    apples_width = np.random.normal(6, std, N)\n",
        "    apples_length = np.random.normal(6, std, N)\n",
        "\n",
        "    width = np.concatenate((bananas_width, apples_width))\n",
        "    length = np.concatenate((bananas_length, apples_length))\n",
        "\n",
        "    X = np.array([width, length]).T\n",
        "\n",
        "    bananas_label = np.zeros(N, dtype='int')\n",
        "    apples_label = np.ones(N, dtype='int')\n",
        "\n",
        "    Y = np.concatenate((bananas_label, apples_label))\n",
        "\n",
        "    mu = np.mean(X, 0)\n",
        "    sigma = np.std(X, 0)\n",
        "    X = (X - mu ) / sigma\n",
        "    \n",
        "    return X, Y"
      ]
    },
    {
      "cell_type": "code",
      "execution_count": 3,
      "metadata": {
        "id": "BsdkmvFSlqbN"
      },
      "outputs": [],
      "source": [
        "class KNearestNeighbors:\n",
        "    def __init__(self, k):\n",
        "        self.k = k\n",
        "    \n",
        "    # train\n",
        "    def fit(self, X_train, y_train):\n",
        "        self.X_train = X_train\n",
        "        self.y_train = y_train\n",
        "        self.number_classes = len(np.unique(y_train))\n",
        "        \n",
        "    def euclidianDistance(self, a, b):\n",
        "        return np.sqrt(np.sum((a - b)**2, axis=1))\n",
        "\n",
        "    def nearNeighbors(self, X_test):\n",
        "        point_dist = []\n",
        "        for x_test in X_test:\n",
        "            point_dist.append(self.euclidianDistance(x_test, self.X_train))\n",
        "\n",
        "        neigh_ind = []\n",
        "        for row in point_dist:\n",
        "            near_neighbors = np.argsort(row)[:self.k]\n",
        "            neigh_ind.append(near_neighbors)\n",
        "\n",
        "        return np.array(neigh_ind)\n",
        "    \n",
        "    # test\n",
        "    def predict(self, X_test):\n",
        "        neighbors = self.nearNeighbors(X_test)\n",
        "        y_pred = []\n",
        "        for neighbor in neighbors:\n",
        "            y_pred.append(np.argmax(np.bincount(self.y_train[neighbor])))\n",
        "        return np.array(y_pred)\n",
        "    \n",
        "    def evaluate(self, X_test, y_test):\n",
        "        y_pred = self.predict(X_test)\n",
        "        evaluatation = (y_pred == y_test).sum() / len(y_test)\n",
        "        return evaluatation"
      ]
    },
    {
      "cell_type": "code",
      "execution_count": 4,
      "metadata": {
        "colab": {
          "base_uri": "https://localhost:8080/",
          "height": 296
        },
        "id": "6AG2r8kyYkFb",
        "outputId": "5dcb27ab-99d0-4acd-81f5-8a0e20c071d4"
      },
      "outputs": [
        {
          "data": {
            "text/plain": [
              "Text(0, 0.5, 'Length')"
            ]
          },
          "execution_count": 4,
          "metadata": {
            "tags": []
          },
          "output_type": "execute_result"
        },
        {
          "data": {
            "image/png": "[encoded data removed]",
            "text/plain": [
              "<Figure size 432x288 with 1 Axes>"
            ]
          },
          "metadata": {
            "needs_background": "light",
            "tags": []
          },
          "output_type": "display_data"
        }
      ],
      "source": [
        "N = 100\n",
        "X_train, y_train = generate_data(N)\n",
        "\n",
        "plt.scatter(X_train[:N, 0], X_train[:N, 1], label='bananas', alpha=0.2, c=\"orange\")\n",
        "plt.scatter(X_train[N:, 0], X_train[N:, 1], label='apples', alpha=0.2, c=\"red\")\n",
        "plt.legend()\n",
        "plt.xlabel('Width')\n",
        "plt.ylabel('Length')"
      ]
    },
    {
      "cell_type": "code",
      "execution_count": 5,
      "metadata": {
        "id": "KAO883M8mfGI"
      },
      "outputs": [],
      "source": [
        "knn = KNearestNeighbors(k=5)\n",
        "knn.fit(X_train, y_train)"
      ]
    },
    {
      "cell_type": "code",
      "execution_count": 6,
      "metadata": {
        "id": "pnZYK4p-mQpQ"
      },
      "outputs": [],
      "source": [
        "N = 100\n",
        "X_test, y_test = generate_data(N)"
      ]
    },
    {
      "cell_type": "code",
      "execution_count": 7,
      "metadata": {
        "colab": {
          "base_uri": "https://localhost:8080/"
        },
        "id": "OjaFq_QPmY4K",
        "outputId": "c5efe4d7-1461-4194-bcae-68dde0e59b9d"
      },
      "outputs": [
        {
          "data": {
            "text/plain": [
              "0.94"
            ]
          },
          "execution_count": 7,
          "metadata": {
            "tags": []
          },
          "output_type": "execute_result"
        }
      ],
      "source": [
        "knn.evaluate(X_test, y_test)"
      ]
    },
    {
      "cell_type": "code",
      "execution_count": 8,
      "metadata": {
        "colab": {
          "base_uri": "https://localhost:8080/"
        },
        "id": "QbgAFcItmcMX",
        "outputId": "c210aecb-3a77-4b7a-8f80-d7d14f92c839"
      },
      "outputs": [
        {
          "name": "stdout",
          "output_type": "stream",
          "text": [
            "[0 0 0 0 0 0 0 0 0 0 0 0 1 0 0 0 0 0 0 0 0 0 1 0 0 0 0 0 0 0 0 0 0 0 0 0 0\n",
            " 0 0 1 1 0 0 0 0 0 0 0 0 0 0 0 0 0 0 0 0 0 0 0 0 0 0 1 0 0 0 0 0 0 0 0 0 0\n",
            " 0 0 0 0 0 1 0 0 0 0 0 1 0 0 0 0 0 0 0 0 0 0 0 0 0 0 1 1 1 1 1 1 1 1 1 1 1\n",
            " 1 1 1 1 1 1 1 1 1 1 1 1 1 1 1 1 1 1 1 1 1 1 1 1 1 1 1 1 1 1 1 1 1 1 1 0 1\n",
            " 1 1 1 1 1 1 1 1 1 1 1 1 1 1 0 1 1 1 1 1 1 1 1 1 1 0 1 1 1 1 1 1 1 0 1 1 1\n",
            " 1 1 1 1 1 1 1 1 1 0 1 1 1 1 1]\n"
          ]
        }
      ],
      "source": [
        "tick = time.time()\n",
        "y_pred = knn.predict(X_test)\n",
        "tock = time.time()\n",
        "\n",
        "print(y_pred)\n",
        "print(round(tock - tick, 5), 'seconds')"
      ]
    },
    {
      "cell_type": "code",
      "execution_count": 9,
      "metadata": {
        "colab": {
          "base_uri": "https://localhost:8080/"
        },
        "id": "4pUTWg2XndKH",
        "outputId": "f3977db4-72fa-4df1-99b8-06cedabf2b3d"
      },
      "outputs": [
        {
          "name": "stdout",
          "output_type": "stream",
          "text": [
            "[[93  7]\n",
            " [ 5 95]]\n"
          ]
        }
      ],
      "source": [
        "# Confusion Matrix\n",
        "\n",
        "moz_moz = 0\n",
        "moz_sib = 0\n",
        "sib_moz = 0\n",
        "sib_sib = 0\n",
        "\n",
        "for i in range(len(y_test)):\n",
        "    if y_test[i] == 0 and y_pred[i] == 0:\n",
        "        moz_moz += 1\n",
        "    if y_test[i] == 0 and y_pred[i] == 1:\n",
        "        moz_sib += 1\n",
        "    if y_test[i] == 1 and y_pred[i] == 0:\n",
        "        sib_moz += 1\n",
        "    if y_test[i] == 1 and y_pred[i] == 1:\n",
        "        sib_sib += 1\n",
        "        \n",
        "conf_mat = np.array([[moz_moz, moz_sib], [sib_moz, sib_sib]])\n",
        "print(conf_mat)"
      ]
    },
    {
      "cell_type": "code",
      "execution_count": 10,
      "metadata": {
        "colab": {
          "base_uri": "https://localhost:8080/"
        },
        "id": "ESq4TcWEnpfR",
        "outputId": "9143014b-3e11-44a5-a5f8-d7b0ac1208b7"
      },
      "outputs": [
        {
          "name": "stdout",
          "output_type": "stream",
          "text": [
            "0.94\n"
          ]
        }
      ],
      "source": [
        "# sklearn\n",
        "from sklearn.neighbors import KNeighborsClassifier\n",
        "\n",
        "knc = KNeighborsClassifier(n_neighbors=5)\n",
        "knc.fit(X_train, y_train)\n",
        "\n",
        "y_pred = knc.predict(X_test)\n",
        "\n",
        "evaluatation = (y_pred == y_test).sum() / len(y_test)\n",
        "print(evaluatation)"
      ]
    },
    {
      "cell_type": "code",
      "execution_count": null,
      "metadata": {
        "id": "C4Yh-VHUn1CK"
      },
      "outputs": [],
      "source": []
    }
  ],
  "metadata": {
    "colab": {
      "collapsed_sections": [],
      "name": "KNN.ipynb",
      "provenance": []
    },
    "kernelspec": {
      "display_name": "Python 3",
      "name": "python3"
    },
    "language_info": {
      "name": "python"
    }
  },
  "nbformat": 4,
  "nbformat_minor": 2
}
