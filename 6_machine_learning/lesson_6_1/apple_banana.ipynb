{
 "cells": [
  {
   "attachments": {},
   "cell_type": "markdown",
   "metadata": {},
   "source": [
    "<img src=\"https://www.fatalerrors.org/images/blog/c6b544ae87e97d71cb450e434a8818a6.jpg\" width=\"400px\">\n",
    "\n",
    "- apple width ≈ 6cm\n",
    "- apple length ≈ 6cm\n",
    "- banana width ≈ 4cm\n",
    "- banana length ≈ 8cm\n",
    "\n",
    "apple : 0\n",
    "\n",
    "banana : 1"
   ]
  },
  {
   "cell_type": "code",
   "execution_count": 1,
   "metadata": {},
   "outputs": [],
   "source": [
    "import numpy as np\n",
    "import matplotlib.pyplot as plt\n",
    "from matplotlib.colors import ListedColormap"
   ]
  },
  {
   "cell_type": "code",
   "execution_count": 2,
   "metadata": {},
   "outputs": [],
   "source": [
    "def genetare_dataset(n):\n",
    "    apple_width = np.random.normal(6, 1, n)\n",
    "    apple_length = np.random.normal(6, 1, n)\n",
    "    banana_width = np.random.normal(4, 1, n)\n",
    "    banana_length = np.random.normal(8, 1, n)\n",
    "\n",
    "    width = np.concatenate((apple_width, banana_width))\n",
    "    length = np.concatenate((apple_length, banana_length))\n",
    "    X = np.array([width, length]).T\n",
    "\n",
    "    Y_apples = np.zeros(n, dtype='int')\n",
    "    Y_bananas = np.ones(n, dtype='int')\n",
    "    Y = np.concatenate((Y_apples, Y_bananas))\n",
    "\n",
    "    return X, Y"
   ]
  },
  {
   "cell_type": "code",
   "execution_count": 3,
   "metadata": {},
   "outputs": [],
   "source": [
    "X_train, Y_train = genetare_dataset(100)"
   ]
  },
  {
   "cell_type": "code",
   "execution_count": 17,
   "metadata": {},
   "outputs": [
    {
     "data": {
      "text/plain": [
       "array([[ 7.64581747,  5.49769453],\n",
       "       [ 5.75269762,  6.46496378],\n",
       "       [ 6.8929929 ,  6.26906083],\n",
       "       [ 7.09697556,  4.67704124],\n",
       "       [ 5.61519344,  5.10460039],\n",
       "       [ 3.60947725,  5.58816751],\n",
       "       [ 5.25209962,  4.97319712],\n",
       "       [ 5.27969974,  5.87824313],\n",
       "       [ 6.02185811,  6.4050654 ],\n",
       "       [ 6.02795377,  7.07732744],\n",
       "       [ 7.27122243,  6.57276029],\n",
       "       [ 5.86873607,  4.79169861],\n",
       "       [ 5.74423766,  5.54473366],\n",
       "       [ 6.03462034,  6.49740989],\n",
       "       [ 5.53424651,  6.39116875],\n",
       "       [ 5.42490953,  6.36500969],\n",
       "       [ 4.13762781,  5.42948513],\n",
       "       [ 7.42302685,  6.6427315 ],\n",
       "       [ 6.34296064,  7.13156224],\n",
       "       [ 5.00376663,  4.08635576],\n",
       "       [ 7.19931159,  6.09254349],\n",
       "       [ 7.57206474,  6.10081468],\n",
       "       [ 7.24144058,  6.04489485],\n",
       "       [ 5.72900288,  5.22598906],\n",
       "       [ 7.61410503,  7.64181912],\n",
       "       [ 6.18876666,  6.97809472],\n",
       "       [ 5.36093818,  4.39344653],\n",
       "       [ 5.22796583,  6.02537076],\n",
       "       [ 6.26225417,  5.80271425],\n",
       "       [ 6.08463757,  8.04012974],\n",
       "       [ 5.9563202 ,  6.4958181 ],\n",
       "       [ 4.70542738,  4.99729012],\n",
       "       [ 5.68018982,  7.00204945],\n",
       "       [ 4.87078008,  5.4173424 ],\n",
       "       [ 6.27437707,  6.40751557],\n",
       "       [ 4.86986209,  5.55198952],\n",
       "       [ 8.16730141,  6.13965356],\n",
       "       [ 7.29228108,  5.93851191],\n",
       "       [ 5.06119794,  7.24590175],\n",
       "       [ 8.05200388,  5.83622315],\n",
       "       [ 6.32396789,  5.40509429],\n",
       "       [ 5.72398006,  5.68437512],\n",
       "       [ 6.281182  ,  6.32189714],\n",
       "       [ 5.42231224,  4.34910016],\n",
       "       [ 5.04826037,  8.0585179 ],\n",
       "       [ 6.33808008,  5.23708888],\n",
       "       [ 6.00781211,  7.38969991],\n",
       "       [ 5.66577806,  6.00656612],\n",
       "       [ 6.5672708 ,  6.42416156],\n",
       "       [ 5.95255793,  5.01988747],\n",
       "       [ 4.18978778,  8.02297115],\n",
       "       [ 5.02158155,  5.17875904],\n",
       "       [ 5.80279149,  4.97648695],\n",
       "       [ 7.79122848,  5.15858545],\n",
       "       [ 6.42944824,  5.9487347 ],\n",
       "       [ 5.35558603,  5.31191528],\n",
       "       [ 6.41228964,  5.96152378],\n",
       "       [ 5.54956027,  7.09329444],\n",
       "       [ 6.23875837,  7.16356799],\n",
       "       [ 6.26080313,  7.10534621],\n",
       "       [ 8.73018679,  4.44505374],\n",
       "       [ 6.34500756,  5.23991024],\n",
       "       [ 5.56517742,  7.12681349],\n",
       "       [ 5.27486779,  5.6888599 ],\n",
       "       [ 6.54274095,  6.30238327],\n",
       "       [ 5.11109424,  5.00525521],\n",
       "       [ 8.68847448,  6.43557008],\n",
       "       [ 5.93564568,  5.78355721],\n",
       "       [ 4.52885363,  5.34006329],\n",
       "       [ 6.01756907,  6.97419287],\n",
       "       [ 8.30645382,  6.3779988 ],\n",
       "       [ 7.63307424,  5.84255279],\n",
       "       [ 6.53363703,  7.45307203],\n",
       "       [ 5.65819345,  6.13228311],\n",
       "       [ 5.89649913,  7.10386105],\n",
       "       [ 6.08063314,  6.79551831],\n",
       "       [ 6.76892904,  7.09421557],\n",
       "       [ 5.05749638,  6.05512892],\n",
       "       [ 4.2910795 ,  4.88243525],\n",
       "       [ 6.82585894,  7.34407352],\n",
       "       [ 3.54143885,  5.72037003],\n",
       "       [ 5.77086054,  3.90106087],\n",
       "       [ 6.70243101,  6.14953756],\n",
       "       [ 5.98498188,  5.61092769],\n",
       "       [ 4.7804479 ,  7.06442425],\n",
       "       [ 6.11725719,  5.10889297],\n",
       "       [ 6.13402629,  5.29412148],\n",
       "       [ 5.78905959,  6.93720305],\n",
       "       [ 5.87763257,  6.76932794],\n",
       "       [ 4.75401105,  5.44408548],\n",
       "       [ 6.94380671,  4.68444396],\n",
       "       [ 5.54160991,  6.02356438],\n",
       "       [ 4.87072163,  7.18208437],\n",
       "       [ 5.45342548,  6.34793853],\n",
       "       [ 5.31178305,  4.77940553],\n",
       "       [ 5.331457  ,  6.37162011],\n",
       "       [ 6.03176978,  3.07172887],\n",
       "       [ 6.36879739,  5.65934283],\n",
       "       [ 5.7721082 ,  6.18174196],\n",
       "       [ 8.10124654,  5.39327074],\n",
       "       [ 2.91537266,  8.37805181],\n",
       "       [ 5.59943198,  6.68384191],\n",
       "       [ 5.10303541,  6.84230971],\n",
       "       [ 2.46704637,  7.4001557 ],\n",
       "       [ 4.04085998,  7.53382761],\n",
       "       [ 3.72076122,  7.28522293],\n",
       "       [ 3.17709958,  9.08493717],\n",
       "       [ 2.38804243,  8.65946661],\n",
       "       [ 3.02675839,  7.46289326],\n",
       "       [ 3.42581519,  7.46997869],\n",
       "       [ 5.47287672,  8.95387472],\n",
       "       [ 4.62849076,  8.91152437],\n",
       "       [ 5.53908832,  8.17670164],\n",
       "       [ 3.77903943,  7.30468399],\n",
       "       [ 5.6260861 ,  8.06956256],\n",
       "       [ 5.10301284,  6.61395489],\n",
       "       [ 2.11015319,  8.40674343],\n",
       "       [ 2.99790519,  7.8971665 ],\n",
       "       [ 2.42152031, 10.87803947],\n",
       "       [ 3.84920568,  9.71976345],\n",
       "       [ 3.87166025,  7.40758653],\n",
       "       [ 1.42057085,  8.276087  ],\n",
       "       [ 5.39988285,  8.4243201 ],\n",
       "       [ 4.22646048,  8.00046245],\n",
       "       [ 2.0972487 ,  7.89607824],\n",
       "       [ 4.96360467,  9.20553438],\n",
       "       [ 3.94471789,  8.83277162],\n",
       "       [ 6.70269503,  6.69667171],\n",
       "       [ 2.7335425 ,  6.88604571],\n",
       "       [ 2.79766866,  9.07512319],\n",
       "       [ 3.83910645,  8.58782418],\n",
       "       [ 3.87291066,  7.91852259],\n",
       "       [ 6.64056778,  9.39416462],\n",
       "       [ 3.71665952,  8.85031156],\n",
       "       [ 4.64049519,  8.22948239],\n",
       "       [ 5.62482366,  7.95842203],\n",
       "       [ 3.82809714,  6.45053668],\n",
       "       [ 4.88887924,  6.73601228],\n",
       "       [ 3.67539935,  8.93592574],\n",
       "       [ 3.83896685,  9.043276  ],\n",
       "       [ 4.99988819,  7.99367865],\n",
       "       [ 3.4457137 ,  8.23622182],\n",
       "       [ 5.47566549,  7.21210112],\n",
       "       [ 4.13776516,  7.36674542],\n",
       "       [ 4.46524668,  6.97003124],\n",
       "       [ 4.296261  ,  5.55544963],\n",
       "       [ 4.39805038,  8.54430465],\n",
       "       [ 0.69206391,  6.41992838],\n",
       "       [ 4.2242684 ,  8.96149158],\n",
       "       [ 4.98810875,  6.24936067],\n",
       "       [ 2.34058444,  8.05693412],\n",
       "       [ 3.52515577,  7.57387339],\n",
       "       [ 3.89442687,  7.07079258],\n",
       "       [ 4.22631552,  8.39569087],\n",
       "       [ 3.83232364,  7.21313628],\n",
       "       [ 3.5460494 ,  8.71247813],\n",
       "       [ 3.21730919,  8.12625683],\n",
       "       [ 6.03470484,  6.19406749],\n",
       "       [ 5.27785075,  6.37277402],\n",
       "       [ 2.86242598,  7.31080826],\n",
       "       [ 2.54808762,  8.6672791 ],\n",
       "       [ 1.19262688,  8.68718278],\n",
       "       [ 3.31686792,  6.75768087],\n",
       "       [ 2.20280486,  9.14456037],\n",
       "       [ 4.92425364,  8.01043685],\n",
       "       [ 4.45889921,  8.06989257],\n",
       "       [ 3.60430407,  8.09849798],\n",
       "       [ 2.40974012,  6.5074529 ],\n",
       "       [ 3.27216834,  7.8554848 ],\n",
       "       [ 5.42701472,  9.75286696],\n",
       "       [ 3.12355227,  8.55267596],\n",
       "       [ 4.37395586,  8.63412778],\n",
       "       [ 2.78133024,  8.51283068],\n",
       "       [ 5.27597358,  7.30283395],\n",
       "       [ 4.86803742,  8.38217541],\n",
       "       [ 3.18304022,  8.14911082],\n",
       "       [ 3.3140728 ,  9.71318625],\n",
       "       [ 5.08692029,  9.59012755],\n",
       "       [ 3.84511936,  6.84932758],\n",
       "       [ 2.43156649,  9.58047024],\n",
       "       [ 3.13426721,  7.93818632],\n",
       "       [ 2.86983511,  9.59479453],\n",
       "       [ 5.74309343,  6.97116493],\n",
       "       [ 2.84750121,  6.81031939],\n",
       "       [ 4.32000026,  7.90060936],\n",
       "       [ 5.93805028,  7.05387194],\n",
       "       [ 5.41106396,  8.42000465],\n",
       "       [ 3.24718411,  9.38442015],\n",
       "       [ 5.10875978,  7.57242463],\n",
       "       [ 2.22406612,  7.86005406],\n",
       "       [ 4.65471248,  9.04872699],\n",
       "       [ 2.26578095,  8.31803033],\n",
       "       [ 3.60819434,  7.08868232],\n",
       "       [ 3.23958142,  9.32372245],\n",
       "       [ 3.9345333 ,  7.35367217],\n",
       "       [ 2.1176511 ,  7.71707393],\n",
       "       [ 4.45123303,  7.29856815],\n",
       "       [ 2.99183246,  7.98487969],\n",
       "       [ 3.37298706,  7.30644568],\n",
       "       [ 5.42628911,  7.50608709]])"
      ]
     },
     "execution_count": 17,
     "metadata": {},
     "output_type": "execute_result"
    }
   ],
   "source": [
    "X_train"
   ]
  },
  {
   "cell_type": "code",
   "execution_count": 4,
   "metadata": {},
   "outputs": [
    {
     "data": {
      "image/png": "[encoded data removed]",
      "text/plain": [
       "<Figure size 640x480 with 1 Axes>"
      ]
     },
     "metadata": {},
     "output_type": "display_data"
    }
   ],
   "source": [
    "cmap = ['red', 'orange']\n",
    "plt.scatter(X_train[:, 0], X_train[:, 1], c=Y_train, cmap=ListedColormap(cmap), marker='.')\n",
    "plt.title('Apple and Banana')\n",
    "plt.xlabel('width')\n",
    "plt.ylabel('length')\n",
    "plt.show()"
   ]
  },
  {
   "cell_type": "code",
   "execution_count": 5,
   "metadata": {},
   "outputs": [],
   "source": [
    "from knn import KNN"
   ]
  },
  {
   "cell_type": "code",
   "execution_count": 6,
   "metadata": {},
   "outputs": [],
   "source": [
    "knn = KNN(k=5)\n",
    "knn.fit(X_train, Y_train)"
   ]
  },
  {
   "cell_type": "code",
   "execution_count": 7,
   "metadata": {},
   "outputs": [],
   "source": [
    "new_fruit = np.array([3, 8.4])\n",
    "new_fruit_2 = np.array([6, 6])\n",
    "new_fruit_3 = np.array([4, 7])\n",
    "\n",
    "new_fruits = [new_fruit, new_fruit_2, new_fruit_3]"
   ]
  },
  {
   "cell_type": "code",
   "execution_count": 8,
   "metadata": {},
   "outputs": [
    {
     "name": "stdout",
     "output_type": "stream",
     "text": [
      "[5.47786427 3.36477479 4.43805086 5.53584958 4.20700551 2.87712782\n",
      " 4.10060126 3.39945416 3.62096541 3.30423467 4.64565884 4.60971643\n",
      " 3.96022553 3.5817272  3.23385348 3.16565503 3.18090484 4.75932338\n",
      " 3.57551677 4.75632288 4.79151055 5.11761948 4.85142643 4.18590518\n",
      " 4.67598155 3.49142484 4.65043007 3.25617809 4.16991553 3.10555881\n",
      " 3.51649511 3.80616829 3.02286011 3.52080452 3.8329544  3.40698517\n",
      " 5.64005052 4.94798954 2.3623039  5.66530625 4.47417286 3.84638608\n",
      " 3.88389841 4.71989259 2.07653089 4.5985634  3.17295446 3.58258264\n",
      " 4.07791105 4.48806852 1.24809684 3.80304947 4.42448661 5.78469002\n",
      " 4.21542605 3.88394809 4.19402991 2.86491484 3.46674486 3.50841353\n",
      " 6.96251682 4.60165653 2.8637631  3.53911063 4.11716035 3.99762568\n",
      " 6.01811655 3.93240237 3.42061487 3.33746147 5.67863901 5.29206133\n",
      " 3.65831426 3.49407102 3.17327644 3.47342224 3.98872149 3.11956916\n",
      " 3.74701856 3.96890128 2.73378361 5.28376016 4.33273315 4.08522229\n",
      " 2.22570378 4.53306495 4.4123239  3.14938539 3.30754601 3.43714786\n",
      " 5.41839165 3.47954411 2.23224504 3.19847665 4.29570078 3.09031013\n",
      " 6.13042423 4.34280987 3.55038767 5.92141344 0.08742716 3.11484273\n",
      " 2.61708941 1.1330173  1.35412116 1.3274881  0.7074625  0.66469165\n",
      " 0.9374887  1.02286764 2.53414611 1.70693859 2.54888832 1.3441055\n",
      " 2.64679374 2.7590977  0.88987236 0.50283786 2.54466468 1.56937116\n",
      " 1.32086187 1.58428245 2.40000607 1.2898975  1.03387477 2.12241111\n",
      " 1.03912616 4.07569353 1.53722386 0.70479024 0.85987066 0.99689193\n",
      " 3.7738703  0.84639315 1.64933342 2.66170817 2.11805384 2.51728424\n",
      " 0.86219526 1.05719884 2.04074737 0.47485155 2.7459103  1.53692049\n",
      " 2.04737844 3.12598134 1.4054781  3.04092956 1.34688749 2.92879258\n",
      " 0.74331896 0.97891458 1.60212103 1.22632309 1.44962345 0.62913633\n",
      " 0.34951196 3.7517425  3.04930307 1.09784574 0.52503611 1.83004687\n",
      " 1.67260796 1.0908209  1.963291   1.49578001 0.67534205 1.98245839\n",
      " 0.60874659 2.77860567 0.19640548 1.39376128 0.24606346 2.52662404\n",
      " 1.86812246 0.31056256 1.35022214 2.40242375 1.76601577 1.31020099\n",
      " 0.48093613 1.20186391 3.09291629 1.5969785  1.41130851 3.23174879\n",
      " 2.41114695 1.01497932 2.26533635 0.94531213 1.77733511 0.73878051\n",
      " 1.44549452 0.95428634 1.40290927 1.11576324 1.82187525 0.41520065\n",
      " 1.15541351 2.58572217]\n",
      "[1.72076318 0.52664009 0.9326468  1.71859688 0.97458533 2.42573804\n",
      " 1.2703067  0.73051845 0.40565473 1.07769005 1.39429582 1.21541041\n",
      " 0.52218944 0.49861324 0.60822636 0.68114692 1.94779809 1.56144458\n",
      " 1.18239381 2.15743255 1.20287679 1.57529399 1.24225209 0.82008071\n",
      " 2.30236945 0.99614364 1.72899221 0.77245092 0.32817513 2.04188463\n",
      " 0.4977384  1.63748141 1.05184678 1.27067994 0.4912756  1.21569942\n",
      " 2.17179615 1.29374309 1.56000656 2.05852928 0.67739796 0.41929235\n",
      " 0.42741208 1.74905501 2.26788542 0.83446481 1.38972187 0.33428643\n",
      " 0.70831433 0.98126007 2.71464188 1.27739555 1.04233879 1.97900933\n",
      " 0.43249731 0.94272474 0.41408111 1.18245028 1.18781144 1.13569737\n",
      " 3.14193853 0.8347255  1.20779937 0.78906583 0.6212917  1.33404297\n",
      " 2.72353012 0.22580735 1.61238584 0.97435128 2.33722321 1.64064655\n",
      " 1.54796214 0.36651131 1.10870269 0.79959433 1.3373704  0.94411454\n",
      " 2.04190113 1.5775223  2.47441222 2.11140957 0.71817185 0.38936205\n",
      " 1.61873602 0.89878862 0.71848976 0.96064843 0.77899889 1.36437877\n",
      " 1.61909197 0.45899538 1.63480674 0.64792355 1.4012471  0.76488643\n",
      " 2.92844346 0.5020546  0.29148725 2.1870888  3.89487564 0.79252413\n",
      " 1.23045972 3.80028911 2.48814324 2.61662519 4.18157915 4.48542084\n",
      " 3.31364185 2.9643321  3.00053909 3.21838652 2.22496508 2.5758234\n",
      " 2.10306938 1.08698049 4.5742018  3.55131159 6.04985834 4.29680769\n",
      " 2.55169158 5.11387753 2.49749245 2.67344206 4.33896075 3.36891169\n",
      " 3.49982565 0.98951088 3.38449724 4.43974196 3.37139362 2.86447866\n",
      " 3.45408172 3.65211168 2.61129184 1.99403463 2.21814006 1.33278033\n",
      " 3.74478679 3.73250494 2.23046591 3.39485884 1.32064976 2.30995923\n",
      " 1.81560688 1.76078154 3.00661417 5.32452114 3.45306459 1.04216344\n",
      " 4.19789235 2.93290494 2.36220976 2.98082059 2.48405323 3.65778774\n",
      " 3.50204744 0.19714618 0.8126869  3.40038071 4.36234764 5.50743022\n",
      " 2.78805991 4.93020799 2.28015055 2.58059042 3.18481597 3.62594463\n",
      " 3.29907402 3.79635648 3.8457907  3.09558536 4.08339969 1.49050011\n",
      " 2.63744175 3.54315392 4.58278922 3.70442038 2.31621845 5.05504548\n",
      " 3.4596229  4.76660046 1.00457071 3.2549756  2.53667402 1.05569116\n",
      " 2.4906361  4.36260187 1.80743696 4.20921344 3.33234674 4.39518561\n",
      " 2.62792    4.3205372  2.46953053 4.245112   2.02112799 3.60400046\n",
      " 2.93393888 1.61165831]\n",
      "[3.94321021 1.83254269 2.98390348 3.8713557  2.49025893 1.46484778\n",
      " 2.38236927 1.70175495 2.10757144 2.02942751 3.29900439 2.89288256\n",
      " 2.27159969 2.09577593 1.65063256 1.55999354 1.57653365 3.44162078\n",
      " 2.34665148 3.08169924 3.3255183  3.68350115 3.37922519 2.47720927\n",
      " 3.67065211 2.18887627 2.94045468 1.56773794 2.55954822 2.32971751\n",
      " 2.02024457 2.1233169  1.68019107 1.80639503 2.35028272 1.68919934\n",
      " 4.25518472 3.45917211 1.08931572 4.21581688 2.81860799 2.16863461\n",
      " 2.37983504 3.00836202 1.48973486 2.92822029 2.04528128 1.93951732\n",
      " 2.63105858 2.78088621 1.0404275  2.0881924  2.71010373 4.21476226\n",
      " 2.64714515 2.16500427 2.62632332 1.55236622 2.24472572 2.2632562\n",
      " 5.37609686 2.9320601  1.57030634 1.82876358 2.63670261 2.28331715\n",
      " 4.72232719 2.28614463 1.74214696 2.01773412 4.35114123 3.81299259\n",
      " 2.57382805 1.87150691 1.89934095 2.09065708 2.77053147 1.41812551\n",
      " 2.13747696 2.84672888 1.35931277 3.56922552 2.83309367 2.42274121\n",
      " 0.78310242 2.83884903 2.73204863 1.79016135 1.89174884 1.72898891\n",
      " 3.74537017 1.82482537 0.88955656 1.59299397 2.5791112  1.4722904\n",
      " 4.42260133 2.7218675  1.95190002 4.40474768 1.75369418 1.63037989\n",
      " 1.11425013 1.58432049 0.53538907 0.39915713 2.2414567  2.31349014\n",
      " 1.07771489 0.74200281 2.44683311 2.01219434 1.93737441 0.37637204\n",
      " 1.94630935 1.16861805 2.35593888 1.34502853 4.18697841 2.72394055\n",
      " 0.42731472 2.87782084 1.99708782 1.02577262 2.1031925  2.4068477\n",
      " 1.83360517 2.7196633  1.27157389 2.3982779  1.595955   0.92727312\n",
      " 3.56435442 1.87187999 1.38631203 1.88643174 0.57572609 0.92725176\n",
      " 1.96295034 2.04961179 1.40967147 1.35479803 1.49083048 0.39176707\n",
      " 0.46621089 1.47461735 1.59477928 3.35841097 1.97427088 1.24089416\n",
      " 1.96742719 0.74485415 0.12711127 1.41392069 0.27118708 1.77162425\n",
      " 1.37151717 2.18850429 1.42348691 1.17926944 2.21085259 3.27535182\n",
      " 0.72483653 2.79804388 1.36938943 1.16415575 1.16759285 1.66479102\n",
      " 1.12320664 3.10074951 1.78296474 1.67637006 1.94263034 1.31141793\n",
      " 1.63214516 1.40992161 2.79854886 2.80894223 0.21607914 3.0197368\n",
      " 1.27659188 2.83023521 1.74333191 1.16800351 0.95577057 1.93879888\n",
      " 2.0018778  2.50043821 1.24780535 1.97322937 2.1507977  2.17823775\n",
      " 0.4017166  2.44497903 0.35968026 2.01430693 0.54106764 1.40939341\n",
      " 0.69789268 1.51341494]\n"
     ]
    },
    {
     "data": {
      "text/plain": [
       "[1, 0, 1]"
      ]
     },
     "execution_count": 8,
     "metadata": {},
     "output_type": "execute_result"
    }
   ],
   "source": [
    "outputs = knn.predict(new_fruits)\n",
    "outputs"
   ]
  },
  {
   "cell_type": "code",
   "execution_count": 9,
   "metadata": {},
   "outputs": [
    {
     "name": "stdout",
     "output_type": "stream",
     "text": [
      "🍌\n",
      "🍎\n",
      "🍌\n"
     ]
    }
   ],
   "source": [
    "for output in outputs:\n",
    "    if output == 0:\n",
    "        print('🍎')\n",
    "    else:\n",
    "        print('🍌')"
   ]
  },
  {
   "cell_type": "code",
   "execution_count": 11,
   "metadata": {},
   "outputs": [],
   "source": [
    "X_test, Y_test = genetare_dataset(90)"
   ]
  },
  {
   "cell_type": "code",
   "execution_count": 12,
   "metadata": {},
   "outputs": [
    {
     "data": {
      "text/plain": [
       "0.9055555555555556"
      ]
     },
     "execution_count": 12,
     "metadata": {},
     "output_type": "execute_result"
    }
   ],
   "source": [
    "knn.evaluate(X_test, Y_test)"
   ]
  },
  {
   "cell_type": "code",
   "execution_count": null,
   "metadata": {},
   "outputs": [],
   "source": [
    "Y_pred = knn.predict(X_test)\n",
    "Y_pred"
   ]
  },
  {
   "cell_type": "code",
   "execution_count": 61,
   "metadata": {},
   "outputs": [
    {
     "data": {
      "text/plain": [
       "array([[86.,  4.],\n",
       "       [12., 78.]])"
      ]
     },
     "execution_count": 61,
     "metadata": {},
     "output_type": "execute_result"
    }
   ],
   "source": [
    "confusion_matrix = np.zeros((2, 2))\n",
    "\n",
    "for i in range(180):\n",
    "    if Y_test[i] == 0 and Y_pred[i] == 0:\n",
    "        confusion_matrix[0][0] += 1\n",
    "    elif Y_test[i] == 0 and Y_pred[i] == 1:\n",
    "        confusion_matrix[0][1] += 1\n",
    "    elif Y_test[i] == 1 and Y_pred[i] == 0:\n",
    "        confusion_matrix[1][0] += 1\n",
    "    elif Y_test[i] == 1 and Y_pred[i] == 1:\n",
    "        confusion_matrix[1][1] += 1\n",
    "\n",
    "confusion_matrix"
   ]
  },
  {
   "cell_type": "code",
   "execution_count": 63,
   "metadata": {},
   "outputs": [
    {
     "data": {
      "image/png": "[encoded data removed]",
      "text/plain": [
       "<Figure size 640x480 with 2 Axes>"
      ]
     },
     "metadata": {},
     "output_type": "display_data"
    }
   ],
   "source": [
    "plt.imshow(confusion_matrix)\n",
    "plt.colorbar()\n",
    "plt.show()"
   ]
  },
  {
   "cell_type": "code",
   "execution_count": 13,
   "metadata": {},
   "outputs": [
    {
     "data": {
      "text/plain": [
       "array([1, 0, 1])"
      ]
     },
     "execution_count": 13,
     "metadata": {},
     "output_type": "execute_result"
    }
   ],
   "source": [
    "from sklearn.neighbors import KNeighborsClassifier\n",
    "\n",
    "knn = KNeighborsClassifier(n_neighbors=5)\n",
    "knn.fit(X_train, Y_train)\n",
    "\n",
    "knn.predict(new_fruits)"
   ]
  },
  {
   "cell_type": "code",
   "execution_count": 15,
   "metadata": {},
   "outputs": [
    {
     "data": {
      "text/plain": [
       "0.9055555555555556"
      ]
     },
     "execution_count": 15,
     "metadata": {},
     "output_type": "execute_result"
    }
   ],
   "source": [
    "knn.score(X_test, Y_test)"
   ]
  }
 ],
 "metadata": {
  "kernelspec": {
   "display_name": "Python 3",
   "language": "python",
   "name": "python3"
  },
  "language_info": {
   "codemirror_mode": {
    "name": "ipython",
    "version": 3
   },
   "file_extension": ".py",
   "mimetype": "text/x-python",
   "name": "python",
   "nbconvert_exporter": "python",
   "pygments_lexer": "ipython3",
   "version": "3.11.3"
  },
  "orig_nbformat": 4
 },
 "nbformat": 4,
 "nbformat_minor": 2
}
