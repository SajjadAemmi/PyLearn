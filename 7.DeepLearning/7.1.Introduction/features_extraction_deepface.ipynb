{
  "cells": [
    {
      "cell_type": "code",
      "execution_count": null,
      "metadata": {
        "id": "-eIe0Ns7HrTI"
      },
      "outputs": [],
      "source": [
        "!pip install deepface"
      ]
    },
    {
      "cell_type": "code",
      "execution_count": null,
      "metadata": {
        "colab": {
          "base_uri": "https://localhost:8080/"
        },
        "id": "rumIR84N2tQn",
        "outputId": "98324238-8502-4693-c8a3-49ba6a2018fa"
      },
      "outputs": [],
      "source": [
        "from deepface import DeepFace"
      ]
    },
    {
      "cell_type": "code",
      "execution_count": null,
      "metadata": {
        "colab": {
          "base_uri": "https://localhost:8080/"
        },
        "id": "f7L53_FpH5Ug",
        "outputId": "40a5816e-6617-43e3-e181-7740b888e867"
      },
      "outputs": [],
      "source": [
        "embedding_objs = DeepFace.represent(img_path=\"image1.jpg\")"
      ]
    },
    {
      "cell_type": "code",
      "execution_count": null,
      "metadata": {},
      "outputs": [],
      "source": [
        "embedding_objs"
      ]
    },
    {
      "cell_type": "code",
      "execution_count": null,
      "metadata": {
        "colab": {
          "base_uri": "https://localhost:8080/"
        },
        "id": "qVG_mtz1IMTz",
        "outputId": "224e447b-d676-4d36-f7b0-2722e55650f9"
      },
      "outputs": [],
      "source": [
        "len(embedding_objs[0]['embedding'])"
      ]
    }
  ],
  "metadata": {
    "colab": {
      "provenance": []
    },
    "kernelspec": {
      "display_name": "Python 3",
      "name": "python3"
    },
    "language_info": {
      "codemirror_mode": {
        "name": "ipython",
        "version": 3
      },
      "file_extension": ".py",
      "mimetype": "text/x-python",
      "name": "python",
      "nbconvert_exporter": "python",
      "pygments_lexer": "ipython3",
      "version": "3.11.4"
    }
  },
  "nbformat": 4,
  "nbformat_minor": 0
}
