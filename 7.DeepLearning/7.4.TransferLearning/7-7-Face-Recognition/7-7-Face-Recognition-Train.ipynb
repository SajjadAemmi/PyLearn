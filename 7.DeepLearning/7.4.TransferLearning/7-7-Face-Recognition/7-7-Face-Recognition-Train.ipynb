{
 "cells": [
  {
   "cell_type": "code",
   "execution_count": null,
   "metadata": {},
   "outputs": [],
   "source": [
    "!pip install wandb"
   ]
  },
  {
   "cell_type": "code",
   "execution_count": null,
   "metadata": {
    "id": "YSUTN4E0TaBO"
   },
   "outputs": [],
   "source": [
    "from tensorflow.keras.models import Sequential\n",
    "from tensorflow.keras import layers\n",
    "from tensorflow.keras.preprocessing.image import ImageDataGenerator\n",
    "import tensorflow as tf\n",
    "import wandb\n",
    "from wandb.keras import (\n",
    "   WandbMetricsLogger,\n",
    "   WandbModelCheckpoint,\n",
    ")\n",
    "import matplotlib.pyplot as plt\n",
    "import numpy as np\n",
    "import cv2"
   ]
  },
  {
   "cell_type": "markdown",
   "metadata": {},
   "source": [
    "### wandb setup"
   ]
  },
  {
   "cell_type": "code",
   "execution_count": null,
   "metadata": {},
   "outputs": [],
   "source": [
    "run = wandb.init(project=\"7-7-Face-Recognition\")"
   ]
  },
  {
   "cell_type": "code",
   "execution_count": null,
   "metadata": {},
   "outputs": [],
   "source": [
    "config = wandb.config"
   ]
  },
  {
   "cell_type": "code",
   "execution_count": null,
   "metadata": {},
   "outputs": [],
   "source": [
    "wandb_callbacks = [\n",
    "   WandbMetricsLogger(log_freq=5),\n",
    "   WandbModelCheckpoint(\"models\"),\n",
    "]"
   ]
  },
  {
   "cell_type": "markdown",
   "metadata": {
    "id": "ncl95UjGt7UB"
   },
   "source": [
    "### Preparing Dataset"
   ]
  },
  {
   "cell_type": "code",
   "execution_count": null,
   "metadata": {
    "id": "YmlBIkqmZBIL"
   },
   "outputs": [],
   "source": [
    "dataset_path = \"datasets/7-7\"\n",
    "width = height = 224\n",
    "batch_size = 32\n",
    "\n",
    "data_generator = ImageDataGenerator(\n",
    "    rescale=1./255,\n",
    "    horizontal_flip=True,\n",
    "    brightness_range=(0.8, 1.2),\n",
    "    fill_mode='reflect',\n",
    "    validation_split=0.1)\n",
    "\n",
    "train_data = data_generator.flow_from_directory(\n",
    "    dataset_path,\n",
    "    target_size=(width, height),\n",
    "    class_mode='categorical', \n",
    "    batch_size=batch_size,\n",
    "    subset='training',\n",
    "    shuffle=True\n",
    ")\n",
    "\n",
    "validation_data = data_generator.flow_from_directory(\n",
    "    dataset_path,\n",
    "    target_size=(width, height),\n",
    "    class_mode='categorical', \n",
    "    batch_size=batch_size,\n",
    "    subset='validation',\n",
    "    shuffle=False\n",
    ")"
   ]
  },
  {
   "cell_type": "code",
   "execution_count": null,
   "metadata": {
    "id": "SjYN6wCbuz_T"
   },
   "outputs": [],
   "source": [
    "train_images = next(train_data)[0]\n",
    "\n",
    "for i in range(16):\n",
    "    plt.subplot(4,4,i+1)\n",
    "    plt.xticks([])\n",
    "    plt.yticks([])\n",
    "    plt.grid(False)\n",
    "    plt.imshow(train_images[i], cmap=plt.cm.binary)"
   ]
  },
  {
   "cell_type": "markdown",
   "metadata": {
    "id": "qNkzB2n4uBqO"
   },
   "source": [
    "### Create Model"
   ]
  },
  {
   "cell_type": "markdown",
   "metadata": {
    "id": "eFfmxnbiuapO"
   },
   "source": [
    "Option 1"
   ]
  },
  {
   "cell_type": "code",
   "execution_count": null,
   "metadata": {
    "id": "_rRC9FTC58lJ"
   },
   "outputs": [],
   "source": [
    "base_model = tf.keras.applications.MobileNetV2(\n",
    "    input_shape=(width, height, 3),\n",
    "    include_top=False,\n",
    "    weights=\"imagenet\",\n",
    "    pooling='avg'\n",
    ")"
   ]
  },
  {
   "cell_type": "code",
   "execution_count": null,
   "metadata": {
    "id": "H23JuEMyu31s"
   },
   "outputs": [],
   "source": [
    "for layer in base_model.layers[:-4]:\n",
    "    layer.trainable = False"
   ]
  },
  {
   "cell_type": "code",
   "execution_count": null,
   "metadata": {
    "id": "R_1dB7DY8MGy"
   },
   "outputs": [],
   "source": [
    "base_model.summary()"
   ]
  },
  {
   "cell_type": "code",
   "execution_count": null,
   "metadata": {
    "id": "_IWtBpL-8Pqq"
   },
   "outputs": [],
   "source": [
    "model = Sequential([\n",
    "    base_model,\n",
    "    layers.Dropout(0.5),\n",
    "    layers.Dense(train_data.num_classes, activation='softmax')\n",
    "])"
   ]
  },
  {
   "cell_type": "markdown",
   "metadata": {
    "id": "5ntqCy5YueWD"
   },
   "source": [
    "Option 2"
   ]
  },
  {
   "cell_type": "code",
   "execution_count": null,
   "metadata": {
    "id": "yhSUnMRqZ4ZR"
   },
   "outputs": [],
   "source": [
    "model = tf.keras.models.load_model('saved_model')"
   ]
  },
  {
   "cell_type": "code",
   "execution_count": null,
   "metadata": {
    "id": "eTE8RXeT9xlz"
   },
   "outputs": [],
   "source": [
    "model.summary()"
   ]
  },
  {
   "cell_type": "markdown",
   "metadata": {
    "id": "5xAvDZ8Vuizo"
   },
   "source": [
    "### Train Model"
   ]
  },
  {
   "cell_type": "code",
   "execution_count": null,
   "metadata": {
    "id": "Imd4dDhw95Vg"
   },
   "outputs": [],
   "source": [
    "model.compile(\n",
    "    loss=tf.keras.losses.categorical_crossentropy,\n",
    "    optimizer=tf.keras.optimizers.RMSprop(lr=1e-4),\n",
    "    # optimizer=tf.keras.optimizers.Adam(learning_rate=0.0001),\n",
    "    # optimizer=tf.keras.optimizers.Adadelta(learning_rate=0.0001),\n",
    "    metrics='accuracy'\n",
    ")"
   ]
  },
  {
   "cell_type": "code",
   "execution_count": null,
   "metadata": {
    "id": "p0kSAOFS_-eq"
   },
   "outputs": [],
   "source": [
    "history = model.fit(\n",
    "    train_data,\n",
    "    validation_data=validation_data,\n",
    "    epochs=32,\n",
    "    callbacks=wandb_callbacks\n",
    ")"
   ]
  },
  {
   "cell_type": "code",
   "execution_count": null,
   "metadata": {
    "id": "Yq703PyJ-b9s"
   },
   "outputs": [],
   "source": [
    "plt.plot(history.history['loss'], label=\"Train\")\n",
    "plt.plot(history.history['val_loss'], label=\"Validation\")\n",
    "plt.legend(loc='best')\n",
    "plt.xlabel('Epochs', fontsize=16)\n",
    "plt.ylabel('Loss', fontsize=16)\n",
    "plt.grid()\n",
    "plt.show()\n",
    "\n",
    "plt.plot(history.history['accuracy'], label=\"Train\")\n",
    "plt.plot(history.history['val_accuracy'], label=\"Validation\")\n",
    "plt.legend(loc='best')\n",
    "plt.xlabel('Epochs', fontsize=16)\n",
    "plt.ylabel('Accuracy', fontsize=16)\n",
    "plt.grid()\n",
    "plt.show()"
   ]
  },
  {
   "cell_type": "markdown",
   "metadata": {
    "id": "q3GMdZ66unjT"
   },
   "source": [
    "### Test Model"
   ]
  },
  {
   "cell_type": "code",
   "execution_count": null,
   "metadata": {
    "id": "7xA1RiScd9lf"
   },
   "outputs": [],
   "source": [
    "import urllib.request\n",
    "\n",
    "image_url = 'https://s.france24.com/media/display/a89f55a2-abff-11ea-b263-005056bff430/w:1280/p:16x9/2020-06-10T224534Z_26952549_RC2K6H9AXPGB_RTRMADP_3_MINNEAPOLIS-POLICE-TRUMP.webp'\n",
    "urllib.request.urlretrieve(image_url, 'person.jpg')"
   ]
  },
  {
   "cell_type": "code",
   "execution_count": null,
   "metadata": {
    "id": "elHoNZY1btcB"
   },
   "outputs": [],
   "source": [
    "img = cv2.imread(\"person.jpg\")\n",
    "img = cv2.cvtColor(img, cv2.COLOR_BGR2RGB)\n",
    "img = cv2.resize(img, (224, 224))\n",
    "img = img / 255.0\n",
    "img = img.reshape(1, 224, 224, 3)\n",
    "\n",
    "output = model.predict(img)\n",
    "print(output)\n",
    "print('probability', np.max(output))\n",
    "print('class index', np.argmax(output))\n",
    "\n",
    "labels = list(train_data.class_indices.keys())\n",
    "print('class label', labels[np.argmax(output)])"
   ]
  },
  {
   "cell_type": "code",
   "execution_count": null,
   "metadata": {
    "id": "6zIsf1J7Vk2X"
   },
   "outputs": [],
   "source": [
    "model.save('weights/7-7-face-recognition-model.h5')"
   ]
  }
 ],
 "metadata": {
  "accelerator": "GPU",
  "colab": {
   "collapsed_sections": [],
   "name": "Face_Recognition_Train.ipynb",
   "provenance": []
  },
  "kernelspec": {
   "display_name": "Python 3 (ipykernel)",
   "language": "python",
   "name": "python3"
  },
  "language_info": {
   "codemirror_mode": {
    "name": "ipython",
    "version": 3
   },
   "file_extension": ".py",
   "mimetype": "text/x-python",
   "name": "python",
   "nbconvert_exporter": "python",
   "pygments_lexer": "ipython3",
   "version": "3.11.2"
  }
 },
 "nbformat": 4,
 "nbformat_minor": 4
}
