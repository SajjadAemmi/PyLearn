{
  "nbformat": 4,
  "nbformat_minor": 0,
  "metadata": {
    "colab": {
      "provenance": [],
      "gpuType": "T4"
    },
    "kernelspec": {
      "name": "python3",
      "display_name": "Python 3"
    },
    "language_info": {
      "name": "python"
    },
    "accelerator": "GPU"
  },
  "cells": [
    {
      "cell_type": "code",
      "source": [
        "!pip install ultralytics"
      ],
      "metadata": {
        "id": "On7rVLhGSLp3"
      },
      "execution_count": null,
      "outputs": []
    },
    {
      "cell_type": "code",
      "execution_count": null,
      "metadata": {
        "id": "m19_eesqR5nW"
      },
      "outputs": [],
      "source": [
        "import cv2\n",
        "from ultralytics import YOLO"
      ]
    },
    {
      "cell_type": "code",
      "source": [
        "model = YOLO(\"yolov8x.pt\")"
      ],
      "metadata": {
        "id": "TUz5VLbKSExj"
      },
      "execution_count": null,
      "outputs": []
    },
    {
      "cell_type": "code",
      "source": [
        "sajjad = cv2.imread(\"/content/0a418e7c-234.jpg\")\n",
        "results = model(sajjad, save=True)"
      ],
      "metadata": {
        "id": "eRyJ8pYNTnM9"
      },
      "execution_count": null,
      "outputs": []
    },
    {
      "cell_type": "code",
      "source": [
        "model.train(data=\"persian_license_plate.yaml\", epochs=6)"
      ],
      "metadata": {
        "id": "ZBMCeY7KeTkx"
      },
      "execution_count": null,
      "outputs": []
    },
    {
      "cell_type": "code",
      "source": [
        "new_model = YOLO(\"/content/runs/detect/train1/weights/best.pt\")\n",
        "result = new_model(\"/content/5f039453-213.jpg\", save=True)"
      ],
      "metadata": {
        "id": "cpZAkktFf1ws"
      },
      "execution_count": null,
      "outputs": []
    }
  ]
}