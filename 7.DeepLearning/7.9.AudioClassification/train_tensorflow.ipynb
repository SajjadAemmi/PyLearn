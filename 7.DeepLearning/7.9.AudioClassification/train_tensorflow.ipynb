{
 "cells": [
  {
   "cell_type": "code",
   "execution_count": null,
   "metadata": {},
   "outputs": [],
   "source": [
    "import tensorflow as tf"
   ]
  },
  {
   "cell_type": "markdown",
   "metadata": {},
   "source": [
    "## Dataset"
   ]
  },
  {
   "cell_type": "code",
   "execution_count": null,
   "metadata": {},
   "outputs": [],
   "source": [
    "directory = \"dataset\"\n",
    "\n",
    "train_data = tf.keras.utils.audio_dataset_from_directory(\n",
    "    directory,\n",
    "    labels=\"inferred\",\n",
    "    label_mode=\"categorical\",\n",
    "    batch_size=4,\n",
    "    sampling_rate=None,\n",
    "    output_sequence_length=48000,\n",
    "    ragged=False,\n",
    "    shuffle=True,\n",
    "    validation_split=0.2,\n",
    "    subset=\"training\",\n",
    "    seed=7\n",
    ")\n",
    "\n",
    "validation_data = tf.keras.utils.audio_dataset_from_directory(\n",
    "    directory,\n",
    "    labels=\"inferred\",\n",
    "    label_mode=\"categorical\",\n",
    "    batch_size=4,\n",
    "    sampling_rate=None,\n",
    "    output_sequence_length=48000,\n",
    "    ragged=False,\n",
    "    shuffle=False,\n",
    "    validation_split=0.2,\n",
    "    subset=\"validation\",\n",
    "    seed=7\n",
    ")"
   ]
  },
  {
   "cell_type": "markdown",
   "metadata": {},
   "source": [
    "## Model"
   ]
  },
  {
   "cell_type": "code",
   "execution_count": null,
   "metadata": {},
   "outputs": [],
   "source": [
    "model = tf.keras.models.Sequential([\n",
    "    tf.keras.layers.Conv1D(32, kernel_size=80, activation='relu', strides=16, input_shape=(48000, 1)),\n",
    "    tf.keras.layers.MaxPooling1D(4),\n",
    "    tf.keras.layers.Conv1D(32, kernel_size=3, activation='relu'),\n",
    "    tf.keras.layers.MaxPooling1D(4),\n",
    "    tf.keras.layers.Conv1D(64, kernel_size=3, activation='relu'),\n",
    "    tf.keras.layers.MaxPooling1D(4),\n",
    "    tf.keras.layers.Conv1D(64, kernel_size=3, activation='relu'),\n",
    "    tf.keras.layers.MaxPooling1D(4),\n",
    "    tf.keras.layers.Flatten(),\n",
    "    # Dense(256, activation='relu'),\n",
    "    tf.keras.layers.Dense(29, activation='softmax')\n",
    "])"
   ]
  },
  {
   "cell_type": "code",
   "execution_count": null,
   "metadata": {},
   "outputs": [],
   "source": [
    "model.summary()"
   ]
  },
  {
   "cell_type": "code",
   "execution_count": null,
   "metadata": {},
   "outputs": [],
   "source": [
    "model.compile(\n",
    "    optimizer=tf.keras.optimizers.Adam(), \n",
    "    loss='categorical_crossentropy',\n",
    "    metrics=['accuracy']\n",
    "    )"
   ]
  },
  {
   "cell_type": "markdown",
   "metadata": {},
   "source": [
    "## Train"
   ]
  },
  {
   "cell_type": "code",
   "execution_count": null,
   "metadata": {},
   "outputs": [],
   "source": [
    "history = model.fit(train_data, validation_data=validation_data, epochs=20)"
   ]
  },
  {
   "cell_type": "code",
   "execution_count": null,
   "metadata": {},
   "outputs": [],
   "source": [
    "model.save(\"weights/audio_classification.h5\")"
   ]
  },
  {
   "cell_type": "markdown",
   "metadata": {},
   "source": [
    "## Inference"
   ]
  },
  {
   "cell_type": "code",
   "execution_count": null,
   "metadata": {},
   "outputs": [],
   "source": [
    "import numpy as np\n",
    "\n",
    "\n",
    "file_path = \"input/voice_63.wav\"\n",
    "x = tf.io.read_file(file_path)\n",
    "x, sample_rate = tf.audio.decode_wav(x, desired_channels=1, desired_samples=48000,)\n",
    "x = x[tf.newaxis, ...]\n",
    "\n",
    "prediction = model.predict(x)\n",
    "np.argmax(prediction)"
   ]
  }
 ],
 "metadata": {
  "kernelspec": {
   "display_name": "Python 3",
   "language": "python",
   "name": "python3"
  },
  "language_info": {
   "codemirror_mode": {
    "name": "ipython",
    "version": 3
   },
   "file_extension": ".py",
   "mimetype": "text/x-python",
   "name": "python",
   "nbconvert_exporter": "python",
   "pygments_lexer": "ipython3",
   "version": "3.11.4"
  }
 },
 "nbformat": 4,
 "nbformat_minor": 2
}
