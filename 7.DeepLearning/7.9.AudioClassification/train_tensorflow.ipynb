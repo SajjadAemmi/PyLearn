{
 "cells": [
  {
   "cell_type": "code",
   "execution_count": null,
   "metadata": {},
   "outputs": [],
   "source": [
    "import tensorflow as tf"
   ]
  },
  {
   "cell_type": "code",
   "execution_count": 3,
   "metadata": {},
   "outputs": [
    {
     "name": "stdout",
     "output_type": "stream",
     "text": [
      "Found 2193 files belonging to 29 classes.\n",
      "Using 1755 files for training.\n",
      "Found 2193 files belonging to 29 classes.\n",
      "Using 438 files for validation.\n"
     ]
    }
   ],
   "source": [
    "directory = \"dataset\"\n",
    "\n",
    "train_data = tf.keras.utils.audio_dataset_from_directory(\n",
    "    directory,\n",
    "    labels=\"inferred\",\n",
    "    label_mode=\"categorical\",\n",
    "    batch_size=4,\n",
    "    sampling_rate=None,\n",
    "    output_sequence_length=48000,\n",
    "    ragged=False,\n",
    "    shuffle=True,\n",
    "    validation_split=0.2,\n",
    "    subset=\"training\",\n",
    "    seed=7\n",
    ")\n",
    "\n",
    "validation_data = tf.keras.utils.audio_dataset_from_directory(\n",
    "    directory,\n",
    "    labels=\"inferred\",\n",
    "    label_mode=\"categorical\",\n",
    "    batch_size=4,\n",
    "    sampling_rate=None,\n",
    "    output_sequence_length=48000,\n",
    "    ragged=False,\n",
    "    shuffle=False,\n",
    "    validation_split=0.2,\n",
    "    subset=\"validation\",\n",
    "    seed=7\n",
    ")"
   ]
  },
  {
   "cell_type": "code",
   "execution_count": 4,
   "metadata": {},
   "outputs": [],
   "source": [
    "model = tf.keras.models.Sequential([\n",
    "    tf.keras.layers.Conv1D(32, kernel_size=80, activation='relu', strides=16, input_shape=(48000, 1)),\n",
    "    tf.keras.layers.MaxPooling1D(4),\n",
    "    tf.keras.layers.Conv1D(32, kernel_size=3, activation='relu'),\n",
    "    tf.keras.layers.MaxPooling1D(4),\n",
    "    tf.keras.layers.Conv1D(64, kernel_size=3, activation='relu'),\n",
    "    tf.keras.layers.MaxPooling1D(4),\n",
    "    tf.keras.layers.Conv1D(64, kernel_size=3, activation='relu'),\n",
    "    tf.keras.layers.MaxPooling1D(4),\n",
    "    tf.keras.layers.Flatten(),\n",
    "    # Dense(256, activation='relu'),\n",
    "    tf.keras.layers.Dense(29, activation='softmax', input_shape=(None, 10))\n",
    "])"
   ]
  },
  {
   "cell_type": "code",
   "execution_count": 5,
   "metadata": {},
   "outputs": [
    {
     "name": "stdout",
     "output_type": "stream",
     "text": [
      "Model: \"sequential\"\n",
      "_________________________________________________________________\n",
      " Layer (type)                Output Shape              Param #   \n",
      "=================================================================\n",
      " conv1d (Conv1D)             (None, 2996, 32)          2592      \n",
      "                                                                 \n",
      " max_pooling1d (MaxPooling1  (None, 749, 32)           0         \n",
      " D)                                                              \n",
      "                                                                 \n",
      " conv1d_1 (Conv1D)           (None, 747, 32)           3104      \n",
      "                                                                 \n",
      " max_pooling1d_1 (MaxPoolin  (None, 186, 32)           0         \n",
      " g1D)                                                            \n",
      "                                                                 \n",
      " conv1d_2 (Conv1D)           (None, 184, 64)           6208      \n",
      "                                                                 \n",
      " max_pooling1d_2 (MaxPoolin  (None, 46, 64)            0         \n",
      " g1D)                                                            \n",
      "                                                                 \n",
      " conv1d_3 (Conv1D)           (None, 44, 64)            12352     \n",
      "                                                                 \n",
      " max_pooling1d_3 (MaxPoolin  (None, 11, 64)            0         \n",
      " g1D)                                                            \n",
      "                                                                 \n",
      " flatten (Flatten)           (None, 704)               0         \n",
      "                                                                 \n",
      " dense (Dense)               (None, 29)                20445     \n",
      "                                                                 \n",
      "=================================================================\n",
      "Total params: 44701 (174.61 KB)\n",
      "Trainable params: 44701 (174.61 KB)\n",
      "Non-trainable params: 0 (0.00 Byte)\n",
      "_________________________________________________________________\n"
     ]
    }
   ],
   "source": [
    "model.summary()"
   ]
  },
  {
   "cell_type": "code",
   "execution_count": 6,
   "metadata": {},
   "outputs": [],
   "source": [
    "model.compile(\n",
    "    optimizer=tf.keras.optimizers.Adam(), \n",
    "    loss='categorical_crossentropy',\n",
    "    metrics=['accuracy']\n",
    "    )"
   ]
  },
  {
   "cell_type": "code",
   "execution_count": 7,
   "metadata": {},
   "outputs": [
    {
     "name": "stdout",
     "output_type": "stream",
     "text": [
      "Epoch 1/20\n"
     ]
    },
    {
     "name": "stderr",
     "output_type": "stream",
     "text": [
      "2023-12-17 14:59:05.909254: I external/local_xla/xla/stream_executor/cuda/cuda_dnn.cc:454] Loaded cuDNN version 8902\n",
      "2023-12-17 14:59:06.155016: I external/local_tsl/tsl/platform/default/subprocess.cc:304] Start cannot spawn child process: No such file or directory\n",
      "2023-12-17 14:59:06.809441: I external/local_xla/xla/service/service.cc:168] XLA service 0x7f208ca1a280 initialized for platform CUDA (this does not guarantee that XLA will be used). Devices:\n",
      "2023-12-17 14:59:06.809457: I external/local_xla/xla/service/service.cc:176]   StreamExecutor device (0): NVIDIA GeForce RTX 3060, Compute Capability 8.6\n",
      "2023-12-17 14:59:06.822525: I tensorflow/compiler/mlir/tensorflow/utils/dump_mlir_util.cc:269] disabling MLIR crash reproducer, set env var `MLIR_CRASH_REPRODUCER_DIRECTORY` to enable.\n",
      "WARNING: All log messages before absl::InitializeLog() is called are written to STDERR\n",
      "I0000 00:00:1702812546.913571    4083 device_compiler.h:186] Compiled cluster using XLA!  This line is logged at most once for the lifetime of the process.\n"
     ]
    },
    {
     "name": "stdout",
     "output_type": "stream",
     "text": [
      "439/439 [==============================] - 6s 7ms/step - loss: 2.7984 - accuracy: 0.1538 - val_loss: 2.5204 - val_accuracy: 0.3333\n",
      "Epoch 2/20\n",
      "439/439 [==============================] - 2s 4ms/step - loss: 1.5629 - accuracy: 0.5168 - val_loss: 1.6053 - val_accuracy: 0.5365\n",
      "Epoch 3/20\n",
      "439/439 [==============================] - 2s 4ms/step - loss: 0.9940 - accuracy: 0.6883 - val_loss: 1.0825 - val_accuracy: 0.6895\n",
      "Epoch 4/20\n",
      "439/439 [==============================] - 2s 5ms/step - loss: 0.7117 - accuracy: 0.7726 - val_loss: 0.9967 - val_accuracy: 0.7283\n",
      "Epoch 5/20\n",
      "439/439 [==============================] - 2s 5ms/step - loss: 0.5239 - accuracy: 0.8353 - val_loss: 0.7555 - val_accuracy: 0.7900\n",
      "Epoch 6/20\n",
      "439/439 [==============================] - 2s 4ms/step - loss: 0.4275 - accuracy: 0.8775 - val_loss: 0.5529 - val_accuracy: 0.8699\n",
      "Epoch 7/20\n",
      "439/439 [==============================] - 2s 4ms/step - loss: 0.3729 - accuracy: 0.8877 - val_loss: 0.5856 - val_accuracy: 0.8836\n",
      "Epoch 8/20\n",
      "439/439 [==============================] - 2s 5ms/step - loss: 0.2913 - accuracy: 0.9151 - val_loss: 0.5231 - val_accuracy: 0.8995\n",
      "Epoch 9/20\n",
      "439/439 [==============================] - 2s 5ms/step - loss: 0.2442 - accuracy: 0.9282 - val_loss: 0.6642 - val_accuracy: 0.8493\n",
      "Epoch 10/20\n",
      "439/439 [==============================] - 2s 4ms/step - loss: 0.2281 - accuracy: 0.9288 - val_loss: 0.4362 - val_accuracy: 0.9132\n",
      "Epoch 11/20\n",
      "439/439 [==============================] - 2s 5ms/step - loss: 0.1902 - accuracy: 0.9521 - val_loss: 0.4626 - val_accuracy: 0.9110\n",
      "Epoch 12/20\n",
      "439/439 [==============================] - 2s 5ms/step - loss: 0.1489 - accuracy: 0.9590 - val_loss: 0.3649 - val_accuracy: 0.9429\n",
      "Epoch 13/20\n",
      "439/439 [==============================] - 3s 6ms/step - loss: 0.2974 - accuracy: 0.9236 - val_loss: 0.4256 - val_accuracy: 0.9269\n",
      "Epoch 14/20\n",
      "439/439 [==============================] - 2s 5ms/step - loss: 0.0906 - accuracy: 0.9772 - val_loss: 0.4542 - val_accuracy: 0.9292\n",
      "Epoch 15/20\n",
      "439/439 [==============================] - 3s 6ms/step - loss: 0.1531 - accuracy: 0.9675 - val_loss: 0.5067 - val_accuracy: 0.8539\n",
      "Epoch 16/20\n",
      "439/439 [==============================] - 3s 6ms/step - loss: 0.1216 - accuracy: 0.9687 - val_loss: 0.3310 - val_accuracy: 0.9201\n",
      "Epoch 17/20\n",
      "439/439 [==============================] - 2s 4ms/step - loss: 0.1478 - accuracy: 0.9584 - val_loss: 0.3430 - val_accuracy: 0.9247\n",
      "Epoch 18/20\n",
      "439/439 [==============================] - 2s 4ms/step - loss: 0.1184 - accuracy: 0.9744 - val_loss: 0.2808 - val_accuracy: 0.9475\n",
      "Epoch 19/20\n",
      "439/439 [==============================] - 2s 4ms/step - loss: 0.0487 - accuracy: 0.9897 - val_loss: 0.3616 - val_accuracy: 0.9452\n",
      "Epoch 20/20\n",
      "439/439 [==============================] - 2s 4ms/step - loss: 0.1984 - accuracy: 0.9487 - val_loss: 0.4651 - val_accuracy: 0.9132\n"
     ]
    },
    {
     "data": {
      "text/plain": [
       "<keras.src.callbacks.History at 0x7f2232b1e4a0>"
      ]
     },
     "execution_count": 7,
     "metadata": {},
     "output_type": "execute_result"
    }
   ],
   "source": [
    "model.fit(train_data, validation_data=validation_data, epochs=20)"
   ]
  }
 ],
 "metadata": {
  "kernelspec": {
   "display_name": "Python 3",
   "language": "python",
   "name": "python3"
  },
  "language_info": {
   "codemirror_mode": {
    "name": "ipython",
    "version": 3
   },
   "file_extension": ".py",
   "mimetype": "text/x-python",
   "name": "python",
   "nbconvert_exporter": "python",
   "pygments_lexer": "ipython3",
   "version": "3.10.12"
  }
 },
 "nbformat": 4,
 "nbformat_minor": 2
}
