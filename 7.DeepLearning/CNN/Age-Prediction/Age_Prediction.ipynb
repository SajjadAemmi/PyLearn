{
  "nbformat": 4,
  "nbformat_minor": 2,
  "metadata": {
    "colab": {
      "name": "Age_Prediction.ipynb",
      "provenance": [],
      "collapsed_sections": []
    },
    "kernelspec": {
      "name": "python3",
      "display_name": "Python 3"
    },
    "language_info": {
      "name": "python"
    },
    "accelerator": "GPU"
  },
  "cells": [
    {
      "cell_type": "code",
      "execution_count": null,
      "source": [
        "import pandas as pd\n",
        "import numpy as np\n",
        "import os\n",
        "from sklearn.model_selection import train_test_split\n",
        "from matplotlib import pyplot as plt\n",
        "from tensorflow.keras.layers import Conv2D, MaxPooling2D, Activation, Dropout, Flatten, Dense\n",
        "from tensorflow.keras.optimizers import Adam\n",
        "from tensorflow.keras.preprocessing.image import ImageDataGenerator\n",
        "import tensorflow as tf\n",
        "import cv2"
      ],
      "outputs": [],
      "metadata": {
        "id": "Lo6VEli4yzQM"
      }
    },
    {
      "cell_type": "markdown",
      "source": [
        "Hyper parameters"
      ],
      "metadata": {
        "id": "hA8_BhErz67q"
      }
    },
    {
      "cell_type": "code",
      "execution_count": null,
      "source": [
        "epochs = 20\n",
        "width = height = 224"
      ],
      "outputs": [],
      "metadata": {
        "id": "AZvDmIjOzyxi"
      }
    },
    {
      "cell_type": "markdown",
      "source": [
        "Prepare dataset"
      ],
      "metadata": {
        "id": "xO7tKiQ9o5KE"
      }
    },
    {
      "cell_type": "code",
      "execution_count": null,
      "source": [
        "!pip install -q kaggle\n",
        "!mkdir -p ~/.kaggle\n",
        "!cp kaggle.json ~/.kaggle/"
      ],
      "outputs": [],
      "metadata": {
        "id": "9Es6eOaeyTuR"
      }
    },
    {
      "cell_type": "code",
      "execution_count": null,
      "source": [
        "!kaggle datasets download -d jangedoo/utkface-new"
      ],
      "outputs": [],
      "metadata": {
        "id": "JH5l705JymIU"
      }
    },
    {
      "cell_type": "code",
      "execution_count": null,
      "source": [
        "!unzip -qq utkface-new.zip"
      ],
      "outputs": [],
      "metadata": {
        "id": "T8H5yLBBysWL"
      }
    },
    {
      "cell_type": "code",
      "execution_count": null,
      "source": [
        "images = [] # x\n",
        "ages = [] # y\n",
        "\n",
        "for image_name in os.listdir('crop_part1'):\n",
        "    parts = image_name.split('_')\n",
        "    ages.append(int(parts[0]))\n",
        "\n",
        "    image = cv2.imread(f'crop_part1/{image_name}')\n",
        "    image = cv2.resize(image, (width, height))\n",
        "    image = cv2.cvtColor(image, cv2.COLOR_BGR2RGB)\n",
        "    images.append(image)"
      ],
      "outputs": [],
      "metadata": {
        "id": "4P5WpjB3z58-"
      }
    },
    {
      "cell_type": "code",
      "execution_count": null,
      "source": [
        "images = pd.Series(images, name='Images')\n",
        "ages = pd.Series(ages, name='Ages')\n",
        "\n",
        "df = pd.concat([images, ages], axis=1)\n",
        "df.head()"
      ],
      "outputs": [],
      "metadata": {
        "id": "sw34oGLU3cMN"
      }
    },
    {
      "cell_type": "code",
      "execution_count": null,
      "source": [
        "print(df['Ages'][0])\n",
        "plt.imshow(df['Images'][0])"
      ],
      "outputs": [],
      "metadata": {
        "id": "5VKfy2Ud5BvU"
      }
    },
    {
      "cell_type": "code",
      "execution_count": null,
      "source": [
        "print(df['Ages'][1])\n",
        "plt.imshow(df['Images'][1])"
      ],
      "outputs": [],
      "metadata": {
        "id": "t4ycpV0e5zEA"
      }
    },
    {
      "cell_type": "code",
      "execution_count": null,
      "source": [
        "plt.figure(figsize=(18, 6))\n",
        "plt.hist(df['Ages'], bins=df['Ages'].max())\n",
        "plt.show()"
      ],
      "outputs": [],
      "metadata": {
        "id": "pqvVphc_598X"
      }
    },
    {
      "cell_type": "markdown",
      "source": [
        "Too many faces of people between 0 and 4 years old. The model would fit too well to these ages and not enough to the other ages. To resolve this I'm only going to include a third of the images between these ages."
      ],
      "metadata": {
        "id": "wswb35sj1-yJ"
      }
    },
    {
      "cell_type": "code",
      "execution_count": null,
      "source": [
        "under_4 = df[df['Ages'] <= 4]\n",
        "under_4_small = under_4.sample(frac=0.3)\n",
        "\n",
        "up_4 = df[df['Ages'] > 4]\n",
        "\n",
        "df = pd.concat([under_4_small, up_4])"
      ],
      "outputs": [],
      "metadata": {
        "id": "wQKQjNCd60df"
      }
    },
    {
      "cell_type": "code",
      "execution_count": null,
      "source": [
        "plt.figure(figsize=(18, 6))\n",
        "plt.hist(df['Ages'], bins=df['Ages'].max())\n",
        "plt.show()"
      ],
      "outputs": [],
      "metadata": {
        "id": "igzwFTiR_ApH"
      }
    },
    {
      "cell_type": "markdown",
      "source": [
        "This looks much better! The dataframe is more representative of the population now. However, there aren't many images of people over 80, which would cause the model to not train well enough on those ages. It's best to just remove over 80s and only have a model that can predict the ages of people under 80."
      ],
      "metadata": {
        "id": "0bkq6X0M2oyX"
      }
    },
    {
      "cell_type": "code",
      "execution_count": null,
      "source": [
        "df = df[df['Ages'] < 80]"
      ],
      "outputs": [],
      "metadata": {
        "id": "1jj0Gmvq_BgM"
      }
    },
    {
      "cell_type": "code",
      "execution_count": null,
      "source": [
        "plt.figure(figsize=(18, 6))\n",
        "plt.hist(df['Ages'], bins=df['Ages'].max())\n",
        "plt.show()"
      ],
      "outputs": [],
      "metadata": {
        "id": "CGDcygn3_nXP"
      }
    },
    {
      "cell_type": "code",
      "execution_count": null,
      "source": [
        "X = np.array(df['Images'].values.tolist())\n",
        "Y = np.array(df['Ages'].values.tolist())"
      ],
      "outputs": [],
      "metadata": {
        "id": "UTr4IMpZ_yvb"
      }
    },
    {
      "cell_type": "code",
      "execution_count": null,
      "source": [
        "X.shape"
      ],
      "outputs": [],
      "metadata": {
        "id": "XQ_-5JnKBmWg"
      }
    },
    {
      "cell_type": "code",
      "execution_count": null,
      "source": [
        "x_train, x_val, y_train, y_val = train_test_split(X, Y, test_size=0.2, stratify=Y)\n",
        "\n",
        "print(x_train.shape)\n",
        "print(y_train.shape)\n",
        "print(x_val.shape)\n",
        "print(y_val.shape)"
      ],
      "outputs": [],
      "metadata": {
        "id": "ActdB73VBypU"
      }
    },
    {
      "cell_type": "code",
      "execution_count": null,
      "source": [
        "data_generator = ImageDataGenerator(rescale=1./225,\n",
        "                                    horizontal_flip=True)\n",
        "\n",
        "train_data = data_generator.flow(x_train, y_train, batch_size=32)\n",
        "val_data = data_generator.flow(x_val, y_val, batch_size=32)"
      ],
      "outputs": [],
      "metadata": {
        "id": "OeSBMjZrCNf5"
      }
    },
    {
      "cell_type": "markdown",
      "source": [
        "Train"
      ],
      "metadata": {
        "id": "omJSNvt3pPVC"
      }
    },
    {
      "cell_type": "code",
      "execution_count": null,
      "source": [
        "base_model = tf.keras.applications.MobileNetV2(\n",
        "    input_shape=(width, height, 3),\n",
        "    weights='imagenet',\n",
        "    include_top=False,\n",
        "    pooling='avg'\n",
        ")"
      ],
      "outputs": [],
      "metadata": {
        "id": "lBbrMLPvDJWn"
      }
    },
    {
      "cell_type": "code",
      "execution_count": null,
      "source": [
        "for layer in base_model.layers:\n",
        "    layer.trainable = False"
      ],
      "outputs": [],
      "metadata": {
        "id": "-lXj4e4zFWOS"
      }
    },
    {
      "cell_type": "code",
      "execution_count": null,
      "source": [
        "model = tf.keras.Sequential([\n",
        "    base_model,\n",
        "    Dropout(0.5),\n",
        "    Dense(1, activation='relu')\n",
        "])"
      ],
      "outputs": [],
      "metadata": {
        "id": "Ovb4gku7FfmP"
      }
    },
    {
      "cell_type": "code",
      "execution_count": null,
      "source": [
        "model.compile(loss='mean_squared_error',\n",
        "              optimizer=Adam(learning_rate=0.001))"
      ],
      "outputs": [],
      "metadata": {
        "id": "xwuhUprVGHUv"
      }
    },
    {
      "cell_type": "code",
      "execution_count": null,
      "source": [
        "model.fit(train_data,\n",
        "          validation_data=val_data,\n",
        "          epochs=epochs,\n",
        "          shuffle=True)"
      ],
      "outputs": [],
      "metadata": {
        "id": "O4UYw8pFGXIb"
      }
    },
    {
      "cell_type": "markdown",
      "source": [
        "Inference"
      ],
      "metadata": {
        "id": "xOBWeIumosJ7"
      }
    },
    {
      "cell_type": "code",
      "execution_count": null,
      "source": [
        "!wget --content-disposition https://github.com/SajjadAemmi/Face-Alignment/blob/main/models/shape_predictor_68_face_landmarks.dat?raw=true"
      ],
      "outputs": [],
      "metadata": {
        "id": "iIyOKse9pk6N"
      }
    },
    {
      "cell_type": "code",
      "execution_count": null,
      "source": [
        "from imutils.face_utils import FaceAligner\n",
        "import imutils\n",
        "import dlib\n",
        "\n",
        "detector = dlib.get_frontal_face_detector()\n",
        "predictor = dlib.shape_predictor('shape_predictor_68_face_landmarks.dat')\n",
        "fa = FaceAligner(predictor, desiredFaceWidth=256)\n",
        "\n",
        "\n",
        "def process_and_predict(image_path):\n",
        "    image = cv2.imread(image_path)\n",
        "    image = imutils.resize(image, width=800)\n",
        "    gray = cv2.cvtColor(image, cv2.COLOR_BGR2GRAY)\n",
        "    rects = detector(gray, 2)\n",
        "\n",
        "    for i, rect in enumerate(rects):\n",
        "        faceAligned = fa.align(image, gray, rect)\n",
        "\n",
        "        faceAligned = cv2.resize(faceAligned, (width, height))\n",
        "        faceAligned = cv2.cvtColor(faceAligned, cv2.COLOR_BGR2RGB)\n",
        "        plt.imshow(faceAligned)\n",
        "\n",
        "        faceAligned = faceAligned / 255.0\n",
        "        faceAligned = np.expand_dims(faceAligned, axis=0)\n",
        "        age = model.predict(faceAligned)\n",
        "        print('Age:', int(age))"
      ],
      "outputs": [],
      "metadata": {
        "id": "r8cIgc-NFDW3"
      }
    },
    {
      "cell_type": "code",
      "execution_count": null,
      "source": [
        "process_and_predict('/content/trump.jpg')"
      ],
      "outputs": [],
      "metadata": {
        "id": "eDIh2cEcJRYk"
      }
    }
  ]
}