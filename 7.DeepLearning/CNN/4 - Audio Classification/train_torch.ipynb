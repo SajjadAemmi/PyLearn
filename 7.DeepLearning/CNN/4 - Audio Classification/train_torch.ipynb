{
 "cells": [
  {
   "cell_type": "code",
   "execution_count": 1,
   "metadata": {},
   "outputs": [],
   "source": [
    "import os\n",
    "import torch\n",
    "import torch.nn as nn\n",
    "import torch.nn.functional as F\n",
    "from torch.nn.utils.rnn import pad_sequence\n",
    "from torch.utils.data import Dataset\n",
    "import torchaudio\n",
    "import numpy as np\n",
    "from tqdm import tqdm"
   ]
  },
  {
   "cell_type": "code",
   "execution_count": 2,
   "metadata": {},
   "outputs": [
    {
     "name": "stdout",
     "output_type": "stream",
     "text": [
      "Using cuda\n"
     ]
    }
   ],
   "source": [
    "device = torch.device(\"cuda\" if torch.cuda.is_available() else \"cpu\")\n",
    "print(f\"Using {device}\")\n",
    "\n",
    "if device == \"cuda\":\n",
    "    num_workers = 1\n",
    "    pin_memory = True\n",
    "else:\n",
    "    num_workers = 0\n",
    "    pin_memory = False"
   ]
  },
  {
   "cell_type": "code",
   "execution_count": 3,
   "metadata": {},
   "outputs": [],
   "source": [
    "epochs = 40\n",
    "lr = 0.001\n",
    "batch_size = 4"
   ]
  },
  {
   "cell_type": "code",
   "execution_count": 4,
   "metadata": {},
   "outputs": [],
   "source": [
    "# Make all tensor in a batch the same length by padding with zeros\n",
    "\n",
    "def pad_sequence(batch):\n",
    "    batch = [item.t() for item in batch]\n",
    "    batch = torch.nn.utils.rnn.pad_sequence(batch, batch_first=True, padding_value=0.)\n",
    "    return batch.permute(0, 2, 1)\n",
    "\n",
    "\n",
    "def collate_fn(batch):\n",
    "    tensors, targets = [], []\n",
    "\n",
    "    for waveform, label in batch:\n",
    "        tensors += [waveform]\n",
    "        targets += torch.tensor([label])\n",
    "\n",
    "    tensors = pad_sequence(tensors)\n",
    "    targets = torch.stack(targets)\n",
    "\n",
    "    return tensors, targets"
   ]
  },
  {
   "cell_type": "code",
   "execution_count": 5,
   "metadata": {},
   "outputs": [],
   "source": [
    "class AudioDataset(Dataset):\n",
    "    def __init__(self, dir_path):\n",
    "        self.dir_path = dir_path\n",
    "        self.classes = os.listdir(self.dir_path)\n",
    "        self.data_paths = []\n",
    "        self.labels = []\n",
    "\n",
    "        for root, dirs, files in os.walk(self.dir_path):\n",
    "            for file in files:\n",
    "                label = os.path.basename(root)\n",
    "                data_path = os.path.join(root, file)\n",
    "                self.data_paths.append(data_path)\n",
    "                self.labels.append(self.classes.index(label))\n",
    "\n",
    "        print(\"classes: \", self.classes)\n",
    "        print(f\"{len(self.labels)} datas loaded from {len(set(self.labels))} classes\")\n",
    "\n",
    "    def __len__(self):\n",
    "        return len(self.labels)\n",
    "\n",
    "    def __getitem__(self, index):\n",
    "        data_path = self.data_paths[index]\n",
    "        label = self.labels[index]\n",
    "        signal, sample_rate = torchaudio.load(data_path)\n",
    "        signal_mono = torch.mean(signal, dim=0, keepdim=True)\n",
    "\n",
    "        new_sample_rate = 8000\n",
    "        transform = torchaudio.transforms.Resample(orig_freq=sample_rate, new_freq=new_sample_rate)\n",
    "        signal_mono_transformed = transform(signal_mono)\n",
    "\n",
    "        return signal_mono_transformed, label"
   ]
  },
  {
   "cell_type": "code",
   "execution_count": 6,
   "metadata": {},
   "outputs": [
    {
     "name": "stdout",
     "output_type": "stream",
     "text": [
      "classes:  ['alireza', 'benyamin', 'maryam', 'mohammadali', 'morteza', 'nahid', 'parisa', 'sajjad', 'zahra', 'zeynab']\n",
      "558 datas loaded from 10 classes\n"
     ]
    }
   ],
   "source": [
    "dataset = AudioDataset(\"dataset\")\n",
    "\n",
    "train_size = int(len(dataset)*0.8)\n",
    "test_size = len(dataset) - train_size\n",
    "\n",
    "train_dataset, test_dataset = torch.utils.data.random_split(dataset, [train_size, test_size])\n",
    "train_data_loader = torch.utils.data.DataLoader(train_dataset, \n",
    "                                                batch_size=batch_size, \n",
    "                                                shuffle=True, \n",
    "                                                collate_fn=collate_fn,\n",
    "                                                num_workers=num_workers, \n",
    "                                                pin_memory=pin_memory)\n",
    "\n",
    "test_data_loader = torch.utils.data.DataLoader(test_dataset, \n",
    "                                                batch_size=batch_size, \n",
    "                                                shuffle=False,\n",
    "                                                collate_fn=collate_fn,\n",
    "                                                num_workers=num_workers, \n",
    "                                                pin_memory=pin_memory)"
   ]
  },
  {
   "cell_type": "code",
   "execution_count": 7,
   "metadata": {},
   "outputs": [],
   "source": [
    "class M5(nn.Module):\n",
    "    def __init__(self, n_input=1, n_output=35, stride=16, n_channel=32):\n",
    "        super().__init__()\n",
    "        self.conv1 = nn.Conv1d(n_input, n_channel, kernel_size=80, stride=stride)\n",
    "        self.bn1 = nn.BatchNorm1d(n_channel)\n",
    "        self.pool1 = nn.MaxPool1d(4)\n",
    "        self.conv2 = nn.Conv1d(n_channel, n_channel, kernel_size=3)\n",
    "        self.bn2 = nn.BatchNorm1d(n_channel)\n",
    "        self.pool2 = nn.MaxPool1d(4)\n",
    "        self.conv3 = nn.Conv1d(n_channel, 2 * n_channel, kernel_size=3)\n",
    "        self.bn3 = nn.BatchNorm1d(2 * n_channel)\n",
    "        self.pool3 = nn.MaxPool1d(4)\n",
    "        self.conv4 = nn.Conv1d(2 * n_channel, 2 * n_channel, kernel_size=3)\n",
    "        self.bn4 = nn.BatchNorm1d(2 * n_channel)\n",
    "        self.pool4 = nn.MaxPool1d(4)\n",
    "        self.fc1 = nn.Linear(2 * n_channel, n_output)\n",
    "\n",
    "    def forward(self, x):\n",
    "        x = self.conv1(x)\n",
    "        x = F.relu(self.bn1(x))\n",
    "        x = self.pool1(x)\n",
    "        x = self.conv2(x)\n",
    "        x = F.relu(self.bn2(x))\n",
    "        x = self.pool2(x)\n",
    "        x = self.conv3(x)\n",
    "        x = F.relu(self.bn3(x))\n",
    "        x = self.pool3(x)\n",
    "        x = self.conv4(x)\n",
    "        x = F.relu(self.bn4(x))\n",
    "        x = self.pool4(x)\n",
    "        x = F.avg_pool1d(x, x.shape[-1])\n",
    "        x = torch.flatten(x, start_dim=1)\n",
    "        x = self.fc1(x)\n",
    "        x = F.softmax(x, dim=1)\n",
    "        return x\n",
    "\n",
    "    def accuracy(self, preds, labels):\n",
    "        maxs, indices = torch.max(preds, 1)\n",
    "        acc = torch.sum(indices == labels) / len(preds)\n",
    "        return acc.cpu()"
   ]
  },
  {
   "cell_type": "code",
   "execution_count": 8,
   "metadata": {},
   "outputs": [
    {
     "name": "stdout",
     "output_type": "stream",
     "text": [
      "M5(\n",
      "  (conv1): Conv1d(1, 32, kernel_size=(80,), stride=(16,))\n",
      "  (bn1): BatchNorm1d(32, eps=1e-05, momentum=0.1, affine=True, track_running_stats=True)\n",
      "  (pool1): MaxPool1d(kernel_size=4, stride=4, padding=0, dilation=1, ceil_mode=False)\n",
      "  (conv2): Conv1d(32, 32, kernel_size=(3,), stride=(1,))\n",
      "  (bn2): BatchNorm1d(32, eps=1e-05, momentum=0.1, affine=True, track_running_stats=True)\n",
      "  (pool2): MaxPool1d(kernel_size=4, stride=4, padding=0, dilation=1, ceil_mode=False)\n",
      "  (conv3): Conv1d(32, 64, kernel_size=(3,), stride=(1,))\n",
      "  (bn3): BatchNorm1d(64, eps=1e-05, momentum=0.1, affine=True, track_running_stats=True)\n",
      "  (pool3): MaxPool1d(kernel_size=4, stride=4, padding=0, dilation=1, ceil_mode=False)\n",
      "  (conv4): Conv1d(64, 64, kernel_size=(3,), stride=(1,))\n",
      "  (bn4): BatchNorm1d(64, eps=1e-05, momentum=0.1, affine=True, track_running_stats=True)\n",
      "  (pool4): MaxPool1d(kernel_size=4, stride=4, padding=0, dilation=1, ceil_mode=False)\n",
      "  (fc1): Linear(in_features=64, out_features=10, bias=True)\n",
      ")\n",
      "Number of parameters: 25290\n"
     ]
    }
   ],
   "source": [
    "model = M5(n_output=10).to(device)\n",
    "print(model)\n",
    "\n",
    "# count_parameters\n",
    "n = sum(p.numel() for p in model.parameters() if p.requires_grad)\n",
    "print(\"Number of parameters: %s\" % n)"
   ]
  },
  {
   "cell_type": "code",
   "execution_count": 9,
   "metadata": {},
   "outputs": [],
   "source": [
    "optimizer = torch.optim.Adam(model.parameters(), lr=lr)\n",
    "loss_function = nn.CrossEntropyLoss()"
   ]
  },
  {
   "cell_type": "code",
   "execution_count": null,
   "metadata": {},
   "outputs": [],
   "source": [
    "# train\n",
    "model.train()\n",
    "\n",
    "for epoch in range(epochs):\n",
    "    train_loss = 0.0\n",
    "    train_acc = 0.0\n",
    "    for audios, labels in tqdm(train_data_loader):\n",
    "        audios, labels = audios.to(device), labels.to(device)\n",
    "        labels_one_hot = torch.nn.functional.one_hot(labels, num_classes=10).type(torch.FloatTensor).to(device)\n",
    "\n",
    "        preds = model(audios)\n",
    "        loss = loss_function(preds, labels_one_hot)\n",
    "        \n",
    "        optimizer.zero_grad()\n",
    "        loss.backward()\n",
    "        optimizer.step()\n",
    "\n",
    "        train_loss += loss\n",
    "        train_acc += model.accuracy(preds, labels)\n",
    "    \n",
    "    total_loss = train_loss / len(train_data_loader)\n",
    "    total_acc = train_acc / len(train_data_loader)\n",
    "\n",
    "    print(f\"Epoch: {epoch}, Loss: {total_loss}, Acc: {total_acc}\")"
   ]
  },
  {
   "cell_type": "code",
   "execution_count": 11,
   "metadata": {},
   "outputs": [
    {
     "name": "stderr",
     "output_type": "stream",
     "text": [
      "100%|██████████| 28/28 [00:00<00:00, 128.96it/s]"
     ]
    },
    {
     "name": "stdout",
     "output_type": "stream",
     "text": [
      "Loss: 1.681485891342163, Acc: 0.7946428656578064\n"
     ]
    },
    {
     "name": "stderr",
     "output_type": "stream",
     "text": [
      "\n"
     ]
    }
   ],
   "source": [
    "model.eval()\n",
    "\n",
    "test_loss = 0.0\n",
    "test_acc = 0.0\n",
    "for audios, labels in tqdm(test_data_loader):\n",
    "    audios, labels = audios.to(device), labels.to(device)\n",
    "    labels_one_hot = torch.nn.functional.one_hot(labels, num_classes=10).type(torch.FloatTensor).to(device)\n",
    "\n",
    "    preds = model(audios)\n",
    "    loss = loss_function(preds, labels_one_hot)\n",
    "\n",
    "    test_loss += loss\n",
    "    test_acc += model.accuracy(preds, labels)\n",
    "\n",
    "total_loss = test_loss / len(test_data_loader)\n",
    "total_acc = test_acc / len(test_data_loader)\n",
    "\n",
    "print(f\"Loss: {total_loss}, Acc: {total_acc}\")"
   ]
  },
  {
   "cell_type": "code",
   "execution_count": 12,
   "metadata": {},
   "outputs": [],
   "source": [
    "torch.save(model.state_dict(), \"weights.pth\")"
   ]
  },
  {
   "cell_type": "code",
   "execution_count": 12,
   "metadata": {},
   "outputs": [
    {
     "name": "stdout",
     "output_type": "stream",
     "text": [
      "3\n"
     ]
    }
   ],
   "source": [
    "# Inference\n",
    "\n",
    "signal, sample_rate = torchaudio.load(\"input/test.ogg\")\n",
    "\n",
    "# preprocess\n",
    "signal = torch.mean(signal, dim=0, keepdim=True)\n",
    "new_sample_rate = 8000\n",
    "transform = torchaudio.transforms.Resample(orig_freq=sample_rate, new_freq=new_sample_rate)\n",
    "signal = transform(signal)\n",
    "signal = signal[:, 32000:40000]\n",
    "signal = signal.unsqueeze(0).to(device)\n",
    "\n",
    "# process\n",
    "preds = model(signal)\n",
    "\n",
    "# postprocess\n",
    "preds = preds.cpu().detach().numpy()\n",
    "output = np.argmax(preds)\n",
    "print(output)"
   ]
  },
  {
   "cell_type": "code",
   "execution_count": null,
   "metadata": {},
   "outputs": [],
   "source": []
  }
 ],
 "metadata": {
  "kernelspec": {
   "display_name": "Python 3.10.6 64-bit",
   "language": "python",
   "name": "python3"
  },
  "language_info": {
   "codemirror_mode": {
    "name": "ipython",
    "version": 3
   },
   "file_extension": ".py",
   "mimetype": "text/x-python",
   "name": "python",
   "nbconvert_exporter": "python",
   "pygments_lexer": "ipython3",
   "version": "3.10.6"
  },
  "orig_nbformat": 4,
  "vscode": {
   "interpreter": {
    "hash": "916dbcbb3f70747c44a77c7bcd40155683ae19c65e1c03b4aa3499c5328201f1"
   }
  }
 },
 "nbformat": 4,
 "nbformat_minor": 2
}
