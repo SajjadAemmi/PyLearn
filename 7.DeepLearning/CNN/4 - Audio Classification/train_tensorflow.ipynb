{
 "cells": [
  {
   "cell_type": "code",
   "execution_count": 1,
   "metadata": {},
   "outputs": [
    {
     "name": "stderr",
     "output_type": "stream",
     "text": [
      "2023-12-10 13:02:44.540854: I external/local_tsl/tsl/cuda/cudart_stub.cc:31] Could not find cuda drivers on your machine, GPU will not be used.\n",
      "2023-12-10 13:02:44.580075: E external/local_xla/xla/stream_executor/cuda/cuda_dnn.cc:9261] Unable to register cuDNN factory: Attempting to register factory for plugin cuDNN when one has already been registered\n",
      "2023-12-10 13:02:44.580118: E external/local_xla/xla/stream_executor/cuda/cuda_fft.cc:607] Unable to register cuFFT factory: Attempting to register factory for plugin cuFFT when one has already been registered\n",
      "2023-12-10 13:02:44.581489: E external/local_xla/xla/stream_executor/cuda/cuda_blas.cc:1515] Unable to register cuBLAS factory: Attempting to register factory for plugin cuBLAS when one has already been registered\n",
      "2023-12-10 13:02:44.588596: I external/local_tsl/tsl/cuda/cudart_stub.cc:31] Could not find cuda drivers on your machine, GPU will not be used.\n",
      "2023-12-10 13:02:44.589358: I tensorflow/core/platform/cpu_feature_guard.cc:182] This TensorFlow binary is optimized to use available CPU instructions in performance-critical operations.\n",
      "To enable the following instructions: AVX2 FMA, in other operations, rebuild TensorFlow with the appropriate compiler flags.\n",
      "2023-12-10 13:02:45.669604: W tensorflow/compiler/tf2tensorrt/utils/py_utils.cc:38] TF-TRT Warning: Could not find TensorRT\n"
     ]
    }
   ],
   "source": [
    "import tensorflow as tf\n",
    "from tensorflow.keras.models import Sequential\n",
    "from tensorflow.keras.layers import Conv1D, BatchNormalization, MaxPooling1D, Flatten, Dense\n",
    "from tensorflow.keras.optimizers import Adam"
   ]
  },
  {
   "cell_type": "code",
   "execution_count": 2,
   "metadata": {},
   "outputs": [],
   "source": [
    "directory = \"dataset\""
   ]
  },
  {
   "cell_type": "code",
   "execution_count": 80,
   "metadata": {},
   "outputs": [
    {
     "name": "stdout",
     "output_type": "stream",
     "text": [
      "Found 494 files belonging to 10 classes.\n"
     ]
    }
   ],
   "source": [
    "train_data = tf.keras.utils.audio_dataset_from_directory(\n",
    "    directory,\n",
    "    labels=\"inferred\",\n",
    "    label_mode=\"categorical\",\n",
    "    batch_size=1,\n",
    "    sampling_rate=None,\n",
    "    output_sequence_length=8000,\n",
    "    ragged=False,\n",
    "    shuffle=True,\n",
    "    validation_split=None,\n",
    "    subset=None\n",
    ")"
   ]
  },
  {
   "cell_type": "code",
   "execution_count": null,
   "metadata": {},
   "outputs": [],
   "source": [
    "model = Sequential([\n",
    "    Conv1D(32, kernel_size=80, strides=16, input_shape=(1000, 1)),\n",
    "    BatchNormalization(),\n",
    "    MaxPooling1D(4),\n",
    "    Conv1D(32, kernel_size=3),\n",
    "    BatchNormalization(),\n",
    "    MaxPooling1D(4),\n",
    "    Conv1D(2 * 32, kernel_size=3),\n",
    "    BatchNormalization(),\n",
    "    MaxPooling1D(4),\n",
    "    Conv1D(2 * 32, kernel_size=3),\n",
    "    BatchNormalization(),\n",
    "    # MaxPooling1D(4),\n",
    "    tf.keras.layers.GlobalAveragePooling1D(),\n",
    "    # Flatten(),\n",
    "    Dense(10, activation='softmax', input_shape=(None, 10))\n",
    "])"
   ]
  },
  {
   "cell_type": "code",
   "execution_count": 81,
   "metadata": {},
   "outputs": [],
   "source": [
    "model = tf.keras.Sequential([\n",
    "    tf.keras.layers.Conv1D(64, kernel_size=256, activation='relu', input_shape=(8000, 1)),\n",
    "    tf.keras.layers.MaxPooling1D(pool_size=2),\n",
    "    tf.keras.layers.Conv1D(128, kernel_size=256, activation='relu'),\n",
    "    tf.keras.layers.MaxPooling1D(pool_size=2),\n",
    "    tf.keras.layers.GlobalAveragePooling1D(),\n",
    "    tf.keras.layers.Dense(256, activation='relu'),\n",
    "    tf.keras.layers.Dense(10, activation='softmax')\n",
    "])"
   ]
  },
  {
   "cell_type": "code",
   "execution_count": 74,
   "metadata": {},
   "outputs": [
    {
     "name": "stdout",
     "output_type": "stream",
     "text": [
      "Model: \"sequential_20\"\n",
      "_________________________________________________________________\n",
      " Layer (type)                Output Shape              Param #   \n",
      "=================================================================\n",
      " conv1d_62 (Conv1D)          (None, 745, 64)           16448     \n",
      "                                                                 \n",
      " max_pooling1d_58 (MaxPooli  (None, 372, 64)           0         \n",
      " ng1D)                                                           \n",
      "                                                                 \n",
      " conv1d_63 (Conv1D)          (None, 245, 128)          1048704   \n",
      "                                                                 \n",
      " max_pooling1d_59 (MaxPooli  (None, 122, 128)          0         \n",
      " ng1D)                                                           \n",
      "                                                                 \n",
      " global_average_pooling1d_1  (None, 128)               0         \n",
      " 3 (GlobalAveragePooling1D)                                      \n",
      "                                                                 \n",
      " dense_29 (Dense)            (None, 256)               33024     \n",
      "                                                                 \n",
      " dense_30 (Dense)            (None, 10)                2570      \n",
      "                                                                 \n",
      "=================================================================\n",
      "Total params: 1100746 (4.20 MB)\n",
      "Trainable params: 1100746 (4.20 MB)\n",
      "Non-trainable params: 0 (0.00 Byte)\n",
      "_________________________________________________________________\n"
     ]
    }
   ],
   "source": [
    "model.summary()"
   ]
  },
  {
   "cell_type": "code",
   "execution_count": 82,
   "metadata": {},
   "outputs": [],
   "source": [
    "model.compile(\n",
    "    optimizer=Adam(), \n",
    "    loss='categorical_crossentropy',\n",
    "    metrics=['accuracy']\n",
    "    )"
   ]
  },
  {
   "cell_type": "code",
   "execution_count": 83,
   "metadata": {},
   "outputs": [
    {
     "name": "stdout",
     "output_type": "stream",
     "text": [
      "Epoch 1/40\n"
     ]
    },
    {
     "name": "stdout",
     "output_type": "stream",
     "text": [
      " 10/494 [..............................] - ETA: 3:24 - loss: 2.1855 - accuracy: 0.3000"
     ]
    },
    {
     "ename": "InvalidArgumentError",
     "evalue": "Graph execution error:\n\nDetected at node gradient_tape/sequential_22/conv1d_66/Conv1D/Conv2DBackpropFilter defined at (most recent call last):\n  File \"<frozen runpy>\", line 198, in _run_module_as_main\n\n  File \"<frozen runpy>\", line 88, in _run_code\n\n  File \"/home/sajjad/.local/lib/python3.11/site-packages/ipykernel_launcher.py\", line 17, in <module>\n\n  File \"/home/sajjad/.local/lib/python3.11/site-packages/traitlets/config/application.py\", line 1043, in launch_instance\n\n  File \"/home/sajjad/.local/lib/python3.11/site-packages/ipykernel/kernelapp.py\", line 725, in start\n\n  File \"/home/sajjad/.local/lib/python3.11/site-packages/tornado/platform/asyncio.py\", line 195, in start\n\n  File \"/usr/lib/python3.11/asyncio/base_events.py\", line 607, in run_forever\n\n  File \"/usr/lib/python3.11/asyncio/base_events.py\", line 1922, in _run_once\n\n  File \"/usr/lib/python3.11/asyncio/events.py\", line 80, in _run\n\n  File \"/home/sajjad/.local/lib/python3.11/site-packages/ipykernel/kernelbase.py\", line 513, in dispatch_queue\n\n  File \"/home/sajjad/.local/lib/python3.11/site-packages/ipykernel/kernelbase.py\", line 502, in process_one\n\n  File \"/home/sajjad/.local/lib/python3.11/site-packages/ipykernel/kernelbase.py\", line 409, in dispatch_shell\n\n  File \"/home/sajjad/.local/lib/python3.11/site-packages/ipykernel/kernelbase.py\", line 729, in execute_request\n\n  File \"/home/sajjad/.local/lib/python3.11/site-packages/ipykernel/ipkernel.py\", line 422, in do_execute\n\n  File \"/home/sajjad/.local/lib/python3.11/site-packages/ipykernel/zmqshell.py\", line 540, in run_cell\n\n  File \"/home/sajjad/.local/lib/python3.11/site-packages/IPython/core/interactiveshell.py\", line 3009, in run_cell\n\n  File \"/home/sajjad/.local/lib/python3.11/site-packages/IPython/core/interactiveshell.py\", line 3064, in _run_cell\n\n  File \"/home/sajjad/.local/lib/python3.11/site-packages/IPython/core/async_helpers.py\", line 129, in _pseudo_sync_runner\n\n  File \"/home/sajjad/.local/lib/python3.11/site-packages/IPython/core/interactiveshell.py\", line 3269, in run_cell_async\n\n  File \"/home/sajjad/.local/lib/python3.11/site-packages/IPython/core/interactiveshell.py\", line 3448, in run_ast_nodes\n\n  File \"/home/sajjad/.local/lib/python3.11/site-packages/IPython/core/interactiveshell.py\", line 3508, in run_code\n\n  File \"/tmp/ipykernel_28761/1629212669.py\", line 1, in <module>\n\n  File \"/home/sajjad/.local/lib/python3.11/site-packages/keras/src/utils/traceback_utils.py\", line 65, in error_handler\n\n  File \"/home/sajjad/.local/lib/python3.11/site-packages/keras/src/engine/training.py\", line 1807, in fit\n\n  File \"/home/sajjad/.local/lib/python3.11/site-packages/keras/src/engine/training.py\", line 1401, in train_function\n\n  File \"/home/sajjad/.local/lib/python3.11/site-packages/keras/src/engine/training.py\", line 1384, in step_function\n\n  File \"/home/sajjad/.local/lib/python3.11/site-packages/keras/src/engine/training.py\", line 1373, in run_step\n\n  File \"/home/sajjad/.local/lib/python3.11/site-packages/keras/src/engine/training.py\", line 1154, in train_step\n\n  File \"/home/sajjad/.local/lib/python3.11/site-packages/keras/src/optimizers/optimizer.py\", line 543, in minimize\n\n  File \"/home/sajjad/.local/lib/python3.11/site-packages/keras/src/optimizers/optimizer.py\", line 276, in compute_gradients\n\nfilter_size does not have enough elements, requested 32768, got 16384\n\t [[{{node gradient_tape/sequential_22/conv1d_66/Conv1D/Conv2DBackpropFilter}}]] [Op:__inference_train_function_34311]",
     "output_type": "error",
     "traceback": [
      "\u001b[0;31m---------------------------------------------------------------------------\u001b[0m",
      "\u001b[0;31mInvalidArgumentError\u001b[0m                      Traceback (most recent call last)",
      "Cell \u001b[0;32mIn[83], line 1\u001b[0m\n\u001b[0;32m----> 1\u001b[0m \u001b[43mmodel\u001b[49m\u001b[38;5;241;43m.\u001b[39;49m\u001b[43mfit\u001b[49m\u001b[43m(\u001b[49m\u001b[43mtrain_data\u001b[49m\u001b[43m,\u001b[49m\u001b[43m \u001b[49m\u001b[43mepochs\u001b[49m\u001b[38;5;241;43m=\u001b[39;49m\u001b[38;5;241;43m40\u001b[39;49m\u001b[43m,\u001b[49m\u001b[43m \u001b[49m\u001b[43mbatch_size\u001b[49m\u001b[38;5;241;43m=\u001b[39;49m\u001b[38;5;241;43m4\u001b[39;49m\u001b[43m)\u001b[49m\n",
      "File \u001b[0;32m~/.local/lib/python3.11/site-packages/keras/src/utils/traceback_utils.py:70\u001b[0m, in \u001b[0;36mfilter_traceback.<locals>.error_handler\u001b[0;34m(*args, **kwargs)\u001b[0m\n\u001b[1;32m     67\u001b[0m     filtered_tb \u001b[38;5;241m=\u001b[39m _process_traceback_frames(e\u001b[38;5;241m.\u001b[39m__traceback__)\n\u001b[1;32m     68\u001b[0m     \u001b[38;5;66;03m# To get the full stack trace, call:\u001b[39;00m\n\u001b[1;32m     69\u001b[0m     \u001b[38;5;66;03m# `tf.debugging.disable_traceback_filtering()`\u001b[39;00m\n\u001b[0;32m---> 70\u001b[0m     \u001b[38;5;28;01mraise\u001b[39;00m e\u001b[38;5;241m.\u001b[39mwith_traceback(filtered_tb) \u001b[38;5;28;01mfrom\u001b[39;00m \u001b[38;5;28mNone\u001b[39m\n\u001b[1;32m     71\u001b[0m \u001b[38;5;28;01mfinally\u001b[39;00m:\n\u001b[1;32m     72\u001b[0m     \u001b[38;5;28;01mdel\u001b[39;00m filtered_tb\n",
      "File \u001b[0;32m~/.local/lib/python3.11/site-packages/tensorflow/python/eager/execute.py:53\u001b[0m, in \u001b[0;36mquick_execute\u001b[0;34m(op_name, num_outputs, inputs, attrs, ctx, name)\u001b[0m\n\u001b[1;32m     51\u001b[0m \u001b[38;5;28;01mtry\u001b[39;00m:\n\u001b[1;32m     52\u001b[0m   ctx\u001b[38;5;241m.\u001b[39mensure_initialized()\n\u001b[0;32m---> 53\u001b[0m   tensors \u001b[38;5;241m=\u001b[39m pywrap_tfe\u001b[38;5;241m.\u001b[39mTFE_Py_Execute(ctx\u001b[38;5;241m.\u001b[39m_handle, device_name, op_name,\n\u001b[1;32m     54\u001b[0m                                       inputs, attrs, num_outputs)\n\u001b[1;32m     55\u001b[0m \u001b[38;5;28;01mexcept\u001b[39;00m core\u001b[38;5;241m.\u001b[39m_NotOkStatusException \u001b[38;5;28;01mas\u001b[39;00m e:\n\u001b[1;32m     56\u001b[0m   \u001b[38;5;28;01mif\u001b[39;00m name \u001b[38;5;129;01mis\u001b[39;00m \u001b[38;5;129;01mnot\u001b[39;00m \u001b[38;5;28;01mNone\u001b[39;00m:\n",
      "\u001b[0;31mInvalidArgumentError\u001b[0m: Graph execution error:\n\nDetected at node gradient_tape/sequential_22/conv1d_66/Conv1D/Conv2DBackpropFilter defined at (most recent call last):\n  File \"<frozen runpy>\", line 198, in _run_module_as_main\n\n  File \"<frozen runpy>\", line 88, in _run_code\n\n  File \"/home/sajjad/.local/lib/python3.11/site-packages/ipykernel_launcher.py\", line 17, in <module>\n\n  File \"/home/sajjad/.local/lib/python3.11/site-packages/traitlets/config/application.py\", line 1043, in launch_instance\n\n  File \"/home/sajjad/.local/lib/python3.11/site-packages/ipykernel/kernelapp.py\", line 725, in start\n\n  File \"/home/sajjad/.local/lib/python3.11/site-packages/tornado/platform/asyncio.py\", line 195, in start\n\n  File \"/usr/lib/python3.11/asyncio/base_events.py\", line 607, in run_forever\n\n  File \"/usr/lib/python3.11/asyncio/base_events.py\", line 1922, in _run_once\n\n  File \"/usr/lib/python3.11/asyncio/events.py\", line 80, in _run\n\n  File \"/home/sajjad/.local/lib/python3.11/site-packages/ipykernel/kernelbase.py\", line 513, in dispatch_queue\n\n  File \"/home/sajjad/.local/lib/python3.11/site-packages/ipykernel/kernelbase.py\", line 502, in process_one\n\n  File \"/home/sajjad/.local/lib/python3.11/site-packages/ipykernel/kernelbase.py\", line 409, in dispatch_shell\n\n  File \"/home/sajjad/.local/lib/python3.11/site-packages/ipykernel/kernelbase.py\", line 729, in execute_request\n\n  File \"/home/sajjad/.local/lib/python3.11/site-packages/ipykernel/ipkernel.py\", line 422, in do_execute\n\n  File \"/home/sajjad/.local/lib/python3.11/site-packages/ipykernel/zmqshell.py\", line 540, in run_cell\n\n  File \"/home/sajjad/.local/lib/python3.11/site-packages/IPython/core/interactiveshell.py\", line 3009, in run_cell\n\n  File \"/home/sajjad/.local/lib/python3.11/site-packages/IPython/core/interactiveshell.py\", line 3064, in _run_cell\n\n  File \"/home/sajjad/.local/lib/python3.11/site-packages/IPython/core/async_helpers.py\", line 129, in _pseudo_sync_runner\n\n  File \"/home/sajjad/.local/lib/python3.11/site-packages/IPython/core/interactiveshell.py\", line 3269, in run_cell_async\n\n  File \"/home/sajjad/.local/lib/python3.11/site-packages/IPython/core/interactiveshell.py\", line 3448, in run_ast_nodes\n\n  File \"/home/sajjad/.local/lib/python3.11/site-packages/IPython/core/interactiveshell.py\", line 3508, in run_code\n\n  File \"/tmp/ipykernel_28761/1629212669.py\", line 1, in <module>\n\n  File \"/home/sajjad/.local/lib/python3.11/site-packages/keras/src/utils/traceback_utils.py\", line 65, in error_handler\n\n  File \"/home/sajjad/.local/lib/python3.11/site-packages/keras/src/engine/training.py\", line 1807, in fit\n\n  File \"/home/sajjad/.local/lib/python3.11/site-packages/keras/src/engine/training.py\", line 1401, in train_function\n\n  File \"/home/sajjad/.local/lib/python3.11/site-packages/keras/src/engine/training.py\", line 1384, in step_function\n\n  File \"/home/sajjad/.local/lib/python3.11/site-packages/keras/src/engine/training.py\", line 1373, in run_step\n\n  File \"/home/sajjad/.local/lib/python3.11/site-packages/keras/src/engine/training.py\", line 1154, in train_step\n\n  File \"/home/sajjad/.local/lib/python3.11/site-packages/keras/src/optimizers/optimizer.py\", line 543, in minimize\n\n  File \"/home/sajjad/.local/lib/python3.11/site-packages/keras/src/optimizers/optimizer.py\", line 276, in compute_gradients\n\nfilter_size does not have enough elements, requested 32768, got 16384\n\t [[{{node gradient_tape/sequential_22/conv1d_66/Conv1D/Conv2DBackpropFilter}}]] [Op:__inference_train_function_34311]"
     ]
    }
   ],
   "source": [
    "model.fit(train_data, epochs=40, batch_size=4)"
   ]
  },
  {
   "cell_type": "code",
   "execution_count": null,
   "metadata": {},
   "outputs": [],
   "source": []
  }
 ],
 "metadata": {
  "kernelspec": {
   "display_name": "Python 3",
   "language": "python",
   "name": "python3"
  },
  "language_info": {
   "codemirror_mode": {
    "name": "ipython",
    "version": 3
   },
   "file_extension": ".py",
   "mimetype": "text/x-python",
   "name": "python",
   "nbconvert_exporter": "python",
   "pygments_lexer": "ipython3",
   "version": "3.11.4"
  }
 },
 "nbformat": 4,
 "nbformat_minor": 2
}
