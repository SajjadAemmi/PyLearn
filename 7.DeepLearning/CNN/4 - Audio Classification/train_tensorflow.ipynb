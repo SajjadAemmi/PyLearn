{
 "cells": [
  {
   "cell_type": "code",
   "execution_count": 1,
   "metadata": {},
   "outputs": [
    {
     "name": "stderr",
     "output_type": "stream",
     "text": [
      "2023-12-13 13:09:19.459240: E external/local_xla/xla/stream_executor/cuda/cuda_dnn.cc:9261] Unable to register cuDNN factory: Attempting to register factory for plugin cuDNN when one has already been registered\n",
      "2023-12-13 13:09:19.459278: E external/local_xla/xla/stream_executor/cuda/cuda_fft.cc:607] Unable to register cuFFT factory: Attempting to register factory for plugin cuFFT when one has already been registered\n",
      "2023-12-13 13:09:19.460640: E external/local_xla/xla/stream_executor/cuda/cuda_blas.cc:1515] Unable to register cuBLAS factory: Attempting to register factory for plugin cuBLAS when one has already been registered\n",
      "2023-12-13 13:09:19.468690: I tensorflow/core/platform/cpu_feature_guard.cc:182] This TensorFlow binary is optimized to use available CPU instructions in performance-critical operations.\n",
      "To enable the following instructions: AVX2 FMA, in other operations, rebuild TensorFlow with the appropriate compiler flags.\n",
      "2023-12-13 13:09:20.527868: W tensorflow/compiler/tf2tensorrt/utils/py_utils.cc:38] TF-TRT Warning: Could not find TensorRT\n"
     ]
    }
   ],
   "source": [
    "import tensorflow as tf\n",
    "from tensorflow.keras.models import Sequential\n",
    "from tensorflow.keras.layers import Conv1D, BatchNormalization, MaxPooling1D, Flatten, Dense\n",
    "from tensorflow.keras.optimizers import Adam"
   ]
  },
  {
   "cell_type": "code",
   "execution_count": 2,
   "metadata": {},
   "outputs": [
    {
     "data": {
      "text/plain": [
       "OrderedDict([('cpu_compiler', '/usr/lib/llvm-17/bin/clang'),\n",
       "             ('cuda_compute_capabilities',\n",
       "              ['sm_50', 'sm_60', 'sm_70', 'sm_75', 'compute_80']),\n",
       "             ('cuda_version', '12.2'),\n",
       "             ('cudnn_version', '8'),\n",
       "             ('is_cuda_build', True),\n",
       "             ('is_rocm_build', False),\n",
       "             ('is_tensorrt_build', True)])"
      ]
     },
     "execution_count": 2,
     "metadata": {},
     "output_type": "execute_result"
    }
   ],
   "source": [
    "tf.sysconfig.get_build_info() "
   ]
  },
  {
   "cell_type": "code",
   "execution_count": 3,
   "metadata": {},
   "outputs": [],
   "source": [
    "directory = \"dataset\""
   ]
  },
  {
   "cell_type": "code",
   "execution_count": 4,
   "metadata": {},
   "outputs": [
    {
     "name": "stdout",
     "output_type": "stream",
     "text": [
      "Found 494 files belonging to 10 classes.\n"
     ]
    },
    {
     "name": "stderr",
     "output_type": "stream",
     "text": [
      "2023-12-13 13:09:34.196842: I external/local_xla/xla/stream_executor/cuda/cuda_executor.cc:901] successful NUMA node read from SysFS had negative value (-1), but there must be at least one NUMA node, so returning NUMA node zero. See more at https://github.com/torvalds/linux/blob/v6.0/Documentation/ABI/testing/sysfs-bus-pci#L344-L355\n",
      "2023-12-13 13:09:34.617061: I external/local_xla/xla/stream_executor/cuda/cuda_executor.cc:901] successful NUMA node read from SysFS had negative value (-1), but there must be at least one NUMA node, so returning NUMA node zero. See more at https://github.com/torvalds/linux/blob/v6.0/Documentation/ABI/testing/sysfs-bus-pci#L344-L355\n",
      "2023-12-13 13:09:34.617269: I external/local_xla/xla/stream_executor/cuda/cuda_executor.cc:901] successful NUMA node read from SysFS had negative value (-1), but there must be at least one NUMA node, so returning NUMA node zero. See more at https://github.com/torvalds/linux/blob/v6.0/Documentation/ABI/testing/sysfs-bus-pci#L344-L355\n",
      "2023-12-13 13:09:34.618557: I external/local_xla/xla/stream_executor/cuda/cuda_executor.cc:901] successful NUMA node read from SysFS had negative value (-1), but there must be at least one NUMA node, so returning NUMA node zero. See more at https://github.com/torvalds/linux/blob/v6.0/Documentation/ABI/testing/sysfs-bus-pci#L344-L355\n",
      "2023-12-13 13:09:34.618793: I external/local_xla/xla/stream_executor/cuda/cuda_executor.cc:901] successful NUMA node read from SysFS had negative value (-1), but there must be at least one NUMA node, so returning NUMA node zero. See more at https://github.com/torvalds/linux/blob/v6.0/Documentation/ABI/testing/sysfs-bus-pci#L344-L355\n",
      "2023-12-13 13:09:34.618951: I external/local_xla/xla/stream_executor/cuda/cuda_executor.cc:901] successful NUMA node read from SysFS had negative value (-1), but there must be at least one NUMA node, so returning NUMA node zero. See more at https://github.com/torvalds/linux/blob/v6.0/Documentation/ABI/testing/sysfs-bus-pci#L344-L355\n",
      "2023-12-13 13:09:34.758592: I external/local_xla/xla/stream_executor/cuda/cuda_executor.cc:901] successful NUMA node read from SysFS had negative value (-1), but there must be at least one NUMA node, so returning NUMA node zero. See more at https://github.com/torvalds/linux/blob/v6.0/Documentation/ABI/testing/sysfs-bus-pci#L344-L355\n",
      "2023-12-13 13:09:34.758929: I external/local_xla/xla/stream_executor/cuda/cuda_executor.cc:901] successful NUMA node read from SysFS had negative value (-1), but there must be at least one NUMA node, so returning NUMA node zero. See more at https://github.com/torvalds/linux/blob/v6.0/Documentation/ABI/testing/sysfs-bus-pci#L344-L355\n",
      "2023-12-13 13:09:34.759154: I external/local_xla/xla/stream_executor/cuda/cuda_executor.cc:901] successful NUMA node read from SysFS had negative value (-1), but there must be at least one NUMA node, so returning NUMA node zero. See more at https://github.com/torvalds/linux/blob/v6.0/Documentation/ABI/testing/sysfs-bus-pci#L344-L355\n",
      "2023-12-13 13:09:34.759287: I tensorflow/core/common_runtime/gpu/gpu_device.cc:1929] Created device /job:localhost/replica:0/task:0/device:GPU:0 with 9872 MB memory:  -> device: 0, name: NVIDIA GeForce RTX 3060, pci bus id: 0000:01:00.0, compute capability: 8.6\n",
      "2023-12-13 13:09:35.073787: I external/local_tsl/tsl/platform/default/subprocess.cc:304] Start cannot spawn child process: No such file or directory\n"
     ]
    }
   ],
   "source": [
    "train_data = tf.keras.utils.audio_dataset_from_directory(\n",
    "    directory,\n",
    "    labels=\"inferred\",\n",
    "    label_mode=\"categorical\",\n",
    "    batch_size=1,\n",
    "    sampling_rate=None,\n",
    "    output_sequence_length=8000,\n",
    "    ragged=False,\n",
    "    shuffle=True,\n",
    "    validation_split=None,\n",
    "    subset=None\n",
    ")"
   ]
  },
  {
   "cell_type": "code",
   "execution_count": 18,
   "metadata": {},
   "outputs": [],
   "source": [
    "model = Sequential([\n",
    "    Conv1D(32, kernel_size=80, strides=16, input_shape=(8000, 1), activation='relu'),\n",
    "    # BatchNormalization(),\n",
    "    MaxPooling1D(4),\n",
    "    Conv1D(32, kernel_size=3, activation='relu'),\n",
    "    # BatchNormalization(),\n",
    "    MaxPooling1D(4),\n",
    "    Conv1D(2 * 32, kernel_size=3, activation='relu'),\n",
    "    # BatchNormalization(),\n",
    "    MaxPooling1D(4),\n",
    "    Conv1D(2 * 32, kernel_size=3, activation='relu'),\n",
    "    # BatchNormalization(),\n",
    "    MaxPooling1D(4),\n",
    "    Flatten(),\n",
    "    Dense(256, activation='relu'),\n",
    "    Dense(10, activation='softmax', input_shape=(None, 10))\n",
    "])"
   ]
  },
  {
   "cell_type": "code",
   "execution_count": 5,
   "metadata": {},
   "outputs": [],
   "source": [
    "model = tf.keras.Sequential([\n",
    "    tf.keras.layers.Conv1D(64, kernel_size=256, activation='relu', input_shape=(8000, 1)),\n",
    "    tf.keras.layers.MaxPooling1D(pool_size=2),\n",
    "    tf.keras.layers.Conv1D(128, kernel_size=256, activation='relu'),\n",
    "    tf.keras.layers.MaxPooling1D(pool_size=2),\n",
    "    tf.keras.layers.GlobalAveragePooling1D(),\n",
    "    tf.keras.layers.Dense(256, activation='relu'),\n",
    "    tf.keras.layers.Dense(10, activation='softmax')\n",
    "])"
   ]
  },
  {
   "cell_type": "code",
   "execution_count": 19,
   "metadata": {},
   "outputs": [
    {
     "name": "stdout",
     "output_type": "stream",
     "text": [
      "Model: \"sequential_4\"\n",
      "_________________________________________________________________\n",
      " Layer (type)                Output Shape              Param #   \n",
      "=================================================================\n",
      " conv1d_14 (Conv1D)          (None, 496, 32)           2592      \n",
      "                                                                 \n",
      " max_pooling1d_14 (MaxPooli  (None, 124, 32)           0         \n",
      " ng1D)                                                           \n",
      "                                                                 \n",
      " conv1d_15 (Conv1D)          (None, 122, 32)           3104      \n",
      "                                                                 \n",
      " max_pooling1d_15 (MaxPooli  (None, 30, 32)            0         \n",
      " ng1D)                                                           \n",
      "                                                                 \n",
      " conv1d_16 (Conv1D)          (None, 28, 64)            6208      \n",
      "                                                                 \n",
      " max_pooling1d_16 (MaxPooli  (None, 7, 64)             0         \n",
      " ng1D)                                                           \n",
      "                                                                 \n",
      " conv1d_17 (Conv1D)          (None, 5, 64)             12352     \n",
      "                                                                 \n",
      " max_pooling1d_17 (MaxPooli  (None, 1, 64)             0         \n",
      " ng1D)                                                           \n",
      "                                                                 \n",
      " flatten_3 (Flatten)         (None, 64)                0         \n",
      "                                                                 \n",
      " dense_5 (Dense)             (None, 256)               16640     \n",
      "                                                                 \n",
      " dense_6 (Dense)             (None, 10)                2570      \n",
      "                                                                 \n",
      "=================================================================\n",
      "Total params: 43466 (169.79 KB)\n",
      "Trainable params: 43466 (169.79 KB)\n",
      "Non-trainable params: 0 (0.00 Byte)\n",
      "_________________________________________________________________\n"
     ]
    }
   ],
   "source": [
    "model.summary()"
   ]
  },
  {
   "cell_type": "code",
   "execution_count": 20,
   "metadata": {},
   "outputs": [],
   "source": [
    "model.compile(\n",
    "    optimizer=Adam(), \n",
    "    loss='categorical_crossentropy',\n",
    "    metrics=['accuracy']\n",
    "    )"
   ]
  },
  {
   "cell_type": "code",
   "execution_count": 21,
   "metadata": {},
   "outputs": [
    {
     "name": "stdout",
     "output_type": "stream",
     "text": [
      "Epoch 1/40\n"
     ]
    },
    {
     "name": "stdout",
     "output_type": "stream",
     "text": [
      "494/494 [==============================] - 5s 5ms/step - loss: 2.1248 - accuracy: 0.1862\n",
      "Epoch 2/40\n",
      "494/494 [==============================] - 2s 5ms/step - loss: 1.9057 - accuracy: 0.2591\n",
      "Epoch 3/40\n",
      "494/494 [==============================] - 2s 5ms/step - loss: 1.7377 - accuracy: 0.3381\n",
      "Epoch 4/40\n",
      "494/494 [==============================] - 2s 5ms/step - loss: 1.6079 - accuracy: 0.3623\n",
      "Epoch 5/40\n",
      "494/494 [==============================] - 2s 5ms/step - loss: 1.4565 - accuracy: 0.4211\n",
      "Epoch 6/40\n",
      "494/494 [==============================] - 2s 5ms/step - loss: 1.3725 - accuracy: 0.4798\n",
      "Epoch 7/40\n",
      "494/494 [==============================] - 2s 5ms/step - loss: 1.2855 - accuracy: 0.5142\n",
      "Epoch 8/40\n",
      "494/494 [==============================] - 2s 5ms/step - loss: 1.1155 - accuracy: 0.5709\n",
      "Epoch 9/40\n",
      "494/494 [==============================] - 2s 5ms/step - loss: 1.0176 - accuracy: 0.6356\n",
      "Epoch 10/40\n",
      "494/494 [==============================] - 2s 5ms/step - loss: 0.9365 - accuracy: 0.6397\n",
      "Epoch 11/40\n",
      "494/494 [==============================] - 2s 5ms/step - loss: 0.9559 - accuracy: 0.6559\n",
      "Epoch 12/40\n",
      "494/494 [==============================] - 2s 5ms/step - loss: 0.9745 - accuracy: 0.6336\n",
      "Epoch 13/40\n",
      "494/494 [==============================] - 2s 5ms/step - loss: 0.7869 - accuracy: 0.7045\n",
      "Epoch 14/40\n",
      "494/494 [==============================] - 2s 5ms/step - loss: 0.8933 - accuracy: 0.6964\n",
      "Epoch 15/40\n",
      "494/494 [==============================] - 2s 5ms/step - loss: 0.7237 - accuracy: 0.7227\n",
      "Epoch 16/40\n",
      "494/494 [==============================] - 2s 5ms/step - loss: 0.6905 - accuracy: 0.7449\n",
      "Epoch 17/40\n",
      "494/494 [==============================] - 2s 5ms/step - loss: 0.6446 - accuracy: 0.7449\n",
      "Epoch 18/40\n",
      "494/494 [==============================] - 2s 5ms/step - loss: 0.5923 - accuracy: 0.7834\n",
      "Epoch 19/40\n",
      "494/494 [==============================] - 2s 5ms/step - loss: 0.5873 - accuracy: 0.7915\n",
      "Epoch 20/40\n",
      "494/494 [==============================] - 2s 5ms/step - loss: 0.8196 - accuracy: 0.7287\n",
      "Epoch 21/40\n",
      "494/494 [==============================] - 2s 5ms/step - loss: 0.5196 - accuracy: 0.8077\n",
      "Epoch 22/40\n",
      "494/494 [==============================] - 2s 5ms/step - loss: 0.4773 - accuracy: 0.8259\n",
      "Epoch 23/40\n",
      "494/494 [==============================] - 2s 5ms/step - loss: 0.8005 - accuracy: 0.7733\n",
      "Epoch 24/40\n",
      "494/494 [==============================] - 3s 5ms/step - loss: 0.5228 - accuracy: 0.8198\n",
      "Epoch 25/40\n",
      "494/494 [==============================] - 2s 5ms/step - loss: 0.4499 - accuracy: 0.8381\n",
      "Epoch 26/40\n",
      "494/494 [==============================] - 2s 5ms/step - loss: 0.4017 - accuracy: 0.8583\n",
      "Epoch 27/40\n",
      "494/494 [==============================] - 2s 5ms/step - loss: 0.3593 - accuracy: 0.8684\n",
      "Epoch 28/40\n",
      "494/494 [==============================] - 3s 5ms/step - loss: 0.5101 - accuracy: 0.8219\n",
      "Epoch 29/40\n",
      "494/494 [==============================] - 2s 5ms/step - loss: 0.4624 - accuracy: 0.8441\n",
      "Epoch 30/40\n",
      "494/494 [==============================] - 2s 5ms/step - loss: 0.3409 - accuracy: 0.8846\n",
      "Epoch 31/40\n",
      "494/494 [==============================] - 2s 5ms/step - loss: 0.5346 - accuracy: 0.8057\n",
      "Epoch 32/40\n",
      "494/494 [==============================] - 2s 5ms/step - loss: 0.4076 - accuracy: 0.8502\n",
      "Epoch 33/40\n",
      "494/494 [==============================] - 2s 5ms/step - loss: 0.3460 - accuracy: 0.8745\n",
      "Epoch 34/40\n",
      "494/494 [==============================] - 2s 5ms/step - loss: 0.3012 - accuracy: 0.8927\n",
      "Epoch 35/40\n",
      "494/494 [==============================] - 2s 5ms/step - loss: 0.2774 - accuracy: 0.9089\n",
      "Epoch 36/40\n",
      "494/494 [==============================] - 3s 6ms/step - loss: 0.7008 - accuracy: 0.8057\n",
      "Epoch 37/40\n",
      "494/494 [==============================] - 2s 5ms/step - loss: 0.3785 - accuracy: 0.8846\n",
      "Epoch 38/40\n",
      "494/494 [==============================] - 2s 5ms/step - loss: 0.3206 - accuracy: 0.8887\n",
      "Epoch 39/40\n",
      "494/494 [==============================] - 2s 5ms/step - loss: 0.3821 - accuracy: 0.8806\n",
      "Epoch 40/40\n",
      "494/494 [==============================] - 2s 5ms/step - loss: 0.2682 - accuracy: 0.9069\n"
     ]
    },
    {
     "data": {
      "text/plain": [
       "<keras.src.callbacks.History at 0x7facbd4a0ad0>"
      ]
     },
     "execution_count": 21,
     "metadata": {},
     "output_type": "execute_result"
    }
   ],
   "source": [
    "model.fit(train_data, epochs=40, batch_size=4)"
   ]
  },
  {
   "cell_type": "code",
   "execution_count": null,
   "metadata": {},
   "outputs": [],
   "source": []
  }
 ],
 "metadata": {
  "kernelspec": {
   "display_name": "Python 3",
   "language": "python",
   "name": "python3"
  },
  "language_info": {
   "codemirror_mode": {
    "name": "ipython",
    "version": 3
   },
   "file_extension": ".py",
   "mimetype": "text/x-python",
   "name": "python",
   "nbconvert_exporter": "python",
   "pygments_lexer": "ipython3",
   "version": "3.11.4"
  }
 },
 "nbformat": 4,
 "nbformat_minor": 2
}
