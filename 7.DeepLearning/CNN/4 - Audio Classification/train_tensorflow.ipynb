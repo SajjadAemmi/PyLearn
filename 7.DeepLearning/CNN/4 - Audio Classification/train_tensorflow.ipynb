{
 "cells": [
  {
   "cell_type": "code",
   "execution_count": 1,
   "metadata": {},
   "outputs": [],
   "source": [
    "from tensorflow import keras"
   ]
  },
  {
   "cell_type": "code",
   "execution_count": 3,
   "metadata": {},
   "outputs": [
    {
     "name": "stdout",
     "output_type": "stream",
     "text": [
      "Found 485 files belonging to 10 classes.\n",
      "Using 388 files for training.\n",
      "Found 485 files belonging to 10 classes.\n",
      "Using 97 files for validation.\n"
     ]
    }
   ],
   "source": [
    "directory = \"dataset\"\n",
    "\n",
    "train_data = keras.utils.audio_dataset_from_directory(\n",
    "    directory,\n",
    "    labels=\"inferred\",\n",
    "    label_mode=\"categorical\",\n",
    "    batch_size=4,\n",
    "    sampling_rate=None,\n",
    "    output_sequence_length=48000,\n",
    "    ragged=False,\n",
    "    shuffle=True,\n",
    "    validation_split=0.2,\n",
    "    subset=\"training\",\n",
    "    seed=7\n",
    ")\n",
    "\n",
    "validation_data = keras.utils.audio_dataset_from_directory(\n",
    "    directory,\n",
    "    labels=\"inferred\",\n",
    "    label_mode=\"categorical\",\n",
    "    batch_size=4,\n",
    "    sampling_rate=None,\n",
    "    output_sequence_length=48000,\n",
    "    ragged=False,\n",
    "    shuffle=True,\n",
    "    validation_split=0.2,\n",
    "    subset=\"validation\",\n",
    "    seed=7\n",
    ")"
   ]
  },
  {
   "cell_type": "code",
   "execution_count": 4,
   "metadata": {},
   "outputs": [],
   "source": [
    "model = keras.models.Sequential([\n",
    "    keras.layers.Conv1D(32, kernel_size=80, strides=16, input_shape=(48000, 1), activation='relu'),\n",
    "    keras.layers.MaxPooling1D(4),\n",
    "    keras.layers.Conv1D(32, kernel_size=3, activation='relu'),\n",
    "    keras.layers.MaxPooling1D(4),\n",
    "    keras.layers.Conv1D(2 * 32, kernel_size=3, activation='relu'),\n",
    "    keras.layers.MaxPooling1D(4),\n",
    "    keras.layers.Conv1D(2 * 32, kernel_size=3, activation='relu'),\n",
    "    keras.layers.MaxPooling1D(4),\n",
    "    keras.layers.Flatten(),\n",
    "    # Dense(256, activation='relu'),\n",
    "    keras.layers.Dense(10, activation='softmax', input_shape=(None, 10))\n",
    "])"
   ]
  },
  {
   "cell_type": "code",
   "execution_count": 5,
   "metadata": {},
   "outputs": [
    {
     "name": "stdout",
     "output_type": "stream",
     "text": [
      "Model: \"sequential\"\n",
      "_________________________________________________________________\n",
      " Layer (type)                Output Shape              Param #   \n",
      "=================================================================\n",
      " conv1d (Conv1D)             (None, 2996, 32)          2592      \n",
      "                                                                 \n",
      " max_pooling1d (MaxPooling1  (None, 749, 32)           0         \n",
      " D)                                                              \n",
      "                                                                 \n",
      " conv1d_1 (Conv1D)           (None, 747, 32)           3104      \n",
      "                                                                 \n",
      " max_pooling1d_1 (MaxPoolin  (None, 186, 32)           0         \n",
      " g1D)                                                            \n",
      "                                                                 \n",
      " conv1d_2 (Conv1D)           (None, 184, 64)           6208      \n",
      "                                                                 \n",
      " max_pooling1d_2 (MaxPoolin  (None, 46, 64)            0         \n",
      " g1D)                                                            \n",
      "                                                                 \n",
      " conv1d_3 (Conv1D)           (None, 44, 64)            12352     \n",
      "                                                                 \n",
      " max_pooling1d_3 (MaxPoolin  (None, 11, 64)            0         \n",
      " g1D)                                                            \n",
      "                                                                 \n",
      " flatten (Flatten)           (None, 704)               0         \n",
      "                                                                 \n",
      " dense (Dense)               (None, 10)                7050      \n",
      "                                                                 \n",
      "=================================================================\n",
      "Total params: 31306 (122.29 KB)\n",
      "Trainable params: 31306 (122.29 KB)\n",
      "Non-trainable params: 0 (0.00 Byte)\n",
      "_________________________________________________________________\n"
     ]
    }
   ],
   "source": [
    "model.summary()"
   ]
  },
  {
   "cell_type": "code",
   "execution_count": 6,
   "metadata": {},
   "outputs": [
    {
     "name": "stderr",
     "output_type": "stream",
     "text": [
      "WARNING:absl:At this time, the v2.11+ optimizer `tf.keras.optimizers.Adam` runs slowly on M1/M2 Macs, please use the legacy Keras optimizer instead, located at `tf.keras.optimizers.legacy.Adam`.\n"
     ]
    }
   ],
   "source": [
    "model.compile(\n",
    "    optimizer=keras.optimizers.Adam(), \n",
    "    loss='categorical_crossentropy',\n",
    "    metrics=['accuracy']\n",
    "    )"
   ]
  },
  {
   "cell_type": "code",
   "execution_count": 7,
   "metadata": {},
   "outputs": [
    {
     "name": "stdout",
     "output_type": "stream",
     "text": [
      "Epoch 1/20\n",
      "97/97 [==============================] - 1s 7ms/step - loss: 2.1136 - accuracy: 0.1959 - val_loss: 1.9068 - val_accuracy: 0.2268\n",
      "Epoch 2/20\n",
      "97/97 [==============================] - 1s 6ms/step - loss: 1.7163 - accuracy: 0.3351 - val_loss: 1.6273 - val_accuracy: 0.3814\n",
      "Epoch 3/20\n",
      "97/97 [==============================] - 1s 7ms/step - loss: 1.3502 - accuracy: 0.5206 - val_loss: 1.2919 - val_accuracy: 0.6082\n",
      "Epoch 4/20\n",
      "97/97 [==============================] - 1s 7ms/step - loss: 1.0726 - accuracy: 0.6160 - val_loss: 1.0118 - val_accuracy: 0.6289\n",
      "Epoch 5/20\n",
      "97/97 [==============================] - 1s 7ms/step - loss: 0.7506 - accuracy: 0.7345 - val_loss: 0.8606 - val_accuracy: 0.7010\n",
      "Epoch 6/20\n",
      "97/97 [==============================] - 1s 7ms/step - loss: 0.5754 - accuracy: 0.7861 - val_loss: 0.7422 - val_accuracy: 0.7629\n",
      "Epoch 7/20\n",
      "97/97 [==============================] - 1s 7ms/step - loss: 0.5994 - accuracy: 0.8093 - val_loss: 1.0110 - val_accuracy: 0.6907\n",
      "Epoch 8/20\n",
      "97/97 [==============================] - 1s 7ms/step - loss: 0.4338 - accuracy: 0.8866 - val_loss: 0.6393 - val_accuracy: 0.8144\n",
      "Epoch 9/20\n",
      "97/97 [==============================] - 1s 7ms/step - loss: 0.3793 - accuracy: 0.8866 - val_loss: 0.6727 - val_accuracy: 0.8041\n",
      "Epoch 10/20\n",
      "97/97 [==============================] - 1s 7ms/step - loss: 0.2521 - accuracy: 0.9278 - val_loss: 0.7267 - val_accuracy: 0.8144\n",
      "Epoch 11/20\n",
      "97/97 [==============================] - 1s 7ms/step - loss: 0.2107 - accuracy: 0.9330 - val_loss: 0.6485 - val_accuracy: 0.8144\n",
      "Epoch 12/20\n",
      "97/97 [==============================] - 1s 8ms/step - loss: 0.2485 - accuracy: 0.9253 - val_loss: 0.5561 - val_accuracy: 0.8247\n",
      "Epoch 13/20\n",
      "97/97 [==============================] - 1s 7ms/step - loss: 0.1196 - accuracy: 0.9691 - val_loss: 0.7439 - val_accuracy: 0.8144\n",
      "Epoch 14/20\n",
      "97/97 [==============================] - 1s 7ms/step - loss: 0.1079 - accuracy: 0.9742 - val_loss: 0.6858 - val_accuracy: 0.8041\n",
      "Epoch 15/20\n",
      "97/97 [==============================] - 1s 7ms/step - loss: 0.1159 - accuracy: 0.9691 - val_loss: 0.6333 - val_accuracy: 0.8763\n",
      "Epoch 16/20\n",
      "97/97 [==============================] - 1s 7ms/step - loss: 0.3526 - accuracy: 0.9253 - val_loss: 1.1969 - val_accuracy: 0.7010\n",
      "Epoch 17/20\n",
      "97/97 [==============================] - 1s 7ms/step - loss: 0.2390 - accuracy: 0.9407 - val_loss: 0.7975 - val_accuracy: 0.7629\n",
      "Epoch 18/20\n",
      "97/97 [==============================] - 1s 7ms/step - loss: 0.0915 - accuracy: 0.9742 - val_loss: 0.6180 - val_accuracy: 0.8557\n",
      "Epoch 19/20\n",
      "97/97 [==============================] - 1s 7ms/step - loss: 0.0860 - accuracy: 0.9716 - val_loss: 0.6719 - val_accuracy: 0.8557\n",
      "Epoch 20/20\n",
      "97/97 [==============================] - 1s 7ms/step - loss: 0.0732 - accuracy: 0.9716 - val_loss: 0.6331 - val_accuracy: 0.9072\n"
     ]
    },
    {
     "data": {
      "text/plain": [
       "<keras.src.callbacks.History at 0x28b3a3490>"
      ]
     },
     "execution_count": 7,
     "metadata": {},
     "output_type": "execute_result"
    }
   ],
   "source": [
    "model.fit(train_data, validation_data=validation_data, epochs=20)"
   ]
  },
  {
   "cell_type": "code",
   "execution_count": null,
   "metadata": {},
   "outputs": [],
   "source": []
  }
 ],
 "metadata": {
  "kernelspec": {
   "display_name": "Python 3",
   "language": "python",
   "name": "python3"
  },
  "language_info": {
   "codemirror_mode": {
    "name": "ipython",
    "version": 3
   },
   "file_extension": ".py",
   "mimetype": "text/x-python",
   "name": "python",
   "nbconvert_exporter": "python",
   "pygments_lexer": "ipython3",
   "version": "3.11.6"
  }
 },
 "nbformat": 4,
 "nbformat_minor": 2
}
