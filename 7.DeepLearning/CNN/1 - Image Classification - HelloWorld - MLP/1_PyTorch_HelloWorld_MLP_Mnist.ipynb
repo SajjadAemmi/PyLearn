{
  "nbformat": 4,
  "nbformat_minor": 0,
  "metadata": {
    "colab": {
      "name": "PyTorch-Mnist-HelloWorld.ipynb",
      "provenance": [],
      "collapsed_sections": []
    },
    "kernelspec": {
      "name": "python3",
      "display_name": "Python 3"
    },
    "language_info": {
      "name": "python"
    },
    "accelerator": "GPU"
  },
  "cells": [
    {
      "cell_type": "code",
      "metadata": {
        "id": "bAltkQau1eOm"
      },
      "source": [
        "import torch\n",
        "import torchvision"
      ],
      "execution_count": 1,
      "outputs": []
    },
    {
      "cell_type": "code",
      "metadata": {
        "id": "WH1WREd42OM7"
      },
      "source": [
        "class MyModel(torch.nn.Module):\n",
        "    def __init__(self):\n",
        "        super().__init__()\n",
        "        self.fc1 = torch.nn.Linear(784, 128)\n",
        "        self.fc2 = torch.nn.Linear(128, 10)\n",
        "\n",
        "    def forward(self, x):\n",
        "        x = x.reshape((x.shape[0], 784)) # input shape: 32*28*28 , output shape: 32*784\n",
        "        x = self.fc1(x)\n",
        "        x = torch.relu(x)\n",
        "        x = torch.dropout(x, 0.2, train=True)\n",
        "        x = self.fc2(x)\n",
        "        x = torch.softmax(x, dim=1)\n",
        "        return x"
      ],
      "execution_count": 3,
      "outputs": []
    },
    {
      "cell_type": "code",
      "metadata": {
        "id": "ISS2sL_Y7U7u"
      },
      "source": [
        "device = torch.device(\"cuda\" if torch.cuda.is_available() else \"cpu\")\n",
        "model = MyModel()\n",
        "model = model.to(device)"
      ],
      "execution_count": 4,
      "outputs": []
    },
    {
      "cell_type": "code",
      "metadata": {
        "id": "cLVZdJm48aQb"
      },
      "source": [
        "# Hyper Parameters\n",
        "batch_size = 64\n",
        "epochs = 10\n",
        "lr = 0.01"
      ],
      "execution_count": 5,
      "outputs": []
    },
    {
      "cell_type": "code",
      "metadata": {
        "id": "fRwKLl1H8lNu"
      },
      "source": [
        "# Dataset\n",
        "transform = torchvision.transforms.Compose([\n",
        "        torchvision.transforms.ToTensor(),\n",
        "        torchvision.transforms.Normalize((0), (1))\n",
        "])\n",
        "\n",
        "dataset = torchvision.datasets.MNIST(\"./dataset\", train=True, download=True, transform=transform)\n",
        "train_data_loader = torch.utils.data.DataLoader(dataset, batch_size=batch_size, shuffle=True)"
      ],
      "execution_count": null,
      "outputs": []
    },
    {
      "cell_type": "code",
      "metadata": {
        "id": "_FXbdTDBC1AZ"
      },
      "source": [
        "optimizer = torch.optim.Adam(model.parameters(), lr=lr)\n",
        "loss_function = torch.nn.CrossEntropyLoss()"
      ],
      "execution_count": 7,
      "outputs": []
    },
    {
      "cell_type": "code",
      "metadata": {
        "id": "FvjhjgX-JWGH"
      },
      "source": [
        "def calc_acc(preds, labels):\n",
        "    preds_max = torch.argmax(preds, 1)\n",
        "    acc = torch.sum(preds_max == labels.data, dtype=torch.float64) / len(preds)\n",
        "    return acc"
      ],
      "execution_count": 2,
      "outputs": []
    },
    {
      "cell_type": "code",
      "metadata": {
        "colab": {
          "base_uri": "https://localhost:8080/"
        },
        "id": "08p9Lp_kD4tW",
        "outputId": "861c9a0c-1f83-4b6d-9192-29249f7b8643"
      },
      "source": [
        "# train\n",
        "model.train(True)\n",
        "\n",
        "for epoch in range(epochs):\n",
        "    train_loss = 0.0\n",
        "    train_acc = 0.0\n",
        "    for images, labels in train_data_loader:\n",
        "        images = images.to(device)\n",
        "        labels = labels.to(device)\n",
        "        optimizer.zero_grad()\n",
        "        # 1- forwarding\n",
        "        preds = model(images)\n",
        "        # 2- backwarding \n",
        "        loss = loss_function(preds, labels)\n",
        "        loss.backward()\n",
        "        # 3- Update\n",
        "        optimizer.step()\n",
        "\n",
        "        train_loss += loss\n",
        "        train_acc += calc_acc(preds, labels)\n",
        "    \n",
        "    total_loss = train_loss / len(train_data_loader)\n",
        "    total_acc = train_acc / len(train_data_loader)\n",
        "\n",
        "    print(f\"Epoch: {epoch}, Loss: {total_loss}, Acc: {total_acc}\")\n",
        "\n",
        "torch.save(model.state_dict(), \"mnist.pth\")"
      ],
      "execution_count": 8,
      "outputs": [
        {
          "output_type": "stream",
          "name": "stdout",
          "text": [
            "Epoch: 0, Loss: 1.5730654001235962, Acc: 0.8901419243070362\n",
            "Epoch: 1, Loss: 1.5410693883895874, Acc: 0.9200093283582089\n",
            "Epoch: 2, Loss: 1.5372532606124878, Acc: 0.9236240671641791\n",
            "Epoch: 3, Loss: 1.5351698398590088, Acc: 0.9258562100213219\n",
            "Epoch: 4, Loss: 1.5321077108383179, Acc: 0.9289378997867803\n",
            "Epoch: 5, Loss: 1.5306951999664307, Acc: 0.9301039445628998\n",
            "Epoch: 6, Loss: 1.5291517972946167, Acc: 0.9319529584221748\n",
            "Epoch: 7, Loss: 1.528383493423462, Acc: 0.9325859541577824\n",
            "Epoch: 8, Loss: 1.5266255140304565, Acc: 0.9344016524520256\n",
            "Epoch: 9, Loss: 1.527269721031189, Acc: 0.9337853144989339\n"
          ]
        }
      ]
    },
    {
      "cell_type": "code",
      "metadata": {
        "colab": {
          "base_uri": "https://localhost:8080/"
        },
        "id": "7c20DbHl8TH2",
        "outputId": "a1547faa-87c4-420b-e960-5aed114fa1e0"
      },
      "source": [
        "# inference\n",
        "import cv2\n",
        "import numpy as np\n",
        "\n",
        "\n",
        "model.eval()\n",
        "\n",
        "# preprocess\n",
        "img = cv2.imread(\"three.jpg\")\n",
        "img = cv2.cvtColor(img, cv2.COLOR_BGR2GRAY)\n",
        "img = cv2.resize(img, (28, 28))\n",
        "tensor = transform(img).unsqueeze(0).to(device)\n",
        "\n",
        "# process\n",
        "preds = model(tensor)\n",
        "\n",
        "# postprocess\n",
        "preds = preds.cpu().detach().numpy()\n",
        "output = np.argmax(preds)\n",
        "print(output)"
      ],
      "execution_count": null,
      "outputs": [
        {
          "output_type": "execute_result",
          "data": {
            "text/plain": [
              "3"
            ]
          },
          "metadata": {},
          "execution_count": 35
        }
      ]
    }
  ]
}
