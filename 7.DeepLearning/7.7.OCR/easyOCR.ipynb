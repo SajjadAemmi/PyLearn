{
  "nbformat": 4,
  "nbformat_minor": 0,
  "metadata": {
    "colab": {
      "provenance": [],
      "gpuType": "T4"
    },
    "kernelspec": {
      "name": "python3",
      "display_name": "Python 3"
    },
    "language_info": {
      "name": "python"
    },
    "accelerator": "GPU"
  },
  "cells": [
    {
      "cell_type": "code",
      "execution_count": null,
      "metadata": {
        "id": "UFuu-ARfLA0x"
      },
      "outputs": [],
      "source": [
        "!pip install easyocr"
      ]
    },
    {
      "cell_type": "code",
      "source": [
        "import easyocr\n",
        "reader = easyocr.Reader(['fa']) # this needs to run only once to load the model into memory\n",
        "result = reader.readtext('16C24436_a88e1.jpg')\n",
        "result"
      ],
      "metadata": {
        "id": "Fev2KYtVLJha"
      },
      "execution_count": null,
      "outputs": []
    },
    {
      "cell_type": "code",
      "source": [
        "threshold = 0.5\n",
        "for item in result:\n",
        "    if item[2] > threshold:\n",
        "        print(item)"
      ],
      "metadata": {
        "colab": {
          "base_uri": "https://localhost:8080/"
        },
        "id": "2rVsREQ-LgoB",
        "outputId": "2a563081-31d2-4e53-8a0d-11cd21a3c77f"
      },
      "execution_count": null,
      "outputs": [
        {
          "output_type": "stream",
          "name": "stdout",
          "text": [
            "([[78, 126], [136, 126], [136, 156], [78, 156]], '315', 0.8946718573570251)\n",
            "([[514, 126], [574, 126], [574, 156], [514, 156]], '309', 0.9999905709103443)\n",
            "([[79, 173], [125, 173], [125, 213], [79, 213]], 'W', 0.8650342755930893)\n",
            "([[226, 170], [414, 170], [414, 220], [226, 220]], 'Yuyuan Rd.', 0.7671841467573554)\n",
            "([[529, 173], [569, 173], [569, 213], [529, 213]], 'E', 0.9995620730257002)\n"
          ]
        }
      ]
    }
  ]
}