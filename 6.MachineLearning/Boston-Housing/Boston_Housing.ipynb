{
 "cells": [
  {
   "cell_type": "code",
   "execution_count": 15,
   "id": "3f5018f5-ff74-4fe7-88ba-9935fe5acf90",
   "metadata": {},
   "outputs": [],
   "source": [
    "import tensorflow as tf\n",
    "from tensorflow.keras.layers import Dense\n",
    "import numpy as np\n",
    "import wandb\n",
    "from wandb.keras import WandbCallback"
   ]
  },
  {
   "cell_type": "code",
   "execution_count": null,
   "id": "2a34f422-9f43-4144-a351-a817d554e830",
   "metadata": {},
   "outputs": [],
   "source": [
    "wandb.init(project=\"Boston Housing\")"
   ]
  },
  {
   "cell_type": "markdown",
   "id": "df333e16-d564-4e6d-b87b-09dce2854977",
   "metadata": {},
   "source": [
    "### Data"
   ]
  },
  {
   "cell_type": "code",
   "execution_count": 2,
   "id": "610901ea-a049-4d06-a6c7-e41921ecf184",
   "metadata": {},
   "outputs": [
    {
     "name": "stdout",
     "output_type": "stream",
     "text": [
      "Downloading data from https://storage.googleapis.com/tensorflow/tf-keras-datasets/boston_housing.npz\n",
      "57344/57026 [==============================] - 0s 4us/step\n",
      "65536/57026 [==================================] - 0s 4us/step\n"
     ]
    }
   ],
   "source": [
    "dataset = tf.keras.datasets.boston_housing\n",
    "(X_train, Y_train), (X_test, Y_test) = dataset.load_data()"
   ]
  },
  {
   "cell_type": "code",
   "execution_count": 14,
   "id": "5b2e3cee-5832-4a9f-b9c1-0c753a1ca3ac",
   "metadata": {},
   "outputs": [
    {
     "name": "stdout",
     "output_type": "stream",
     "text": [
      "15.2\n"
     ]
    }
   ],
   "source": [
    "print(Y_train[0])"
   ]
  },
  {
   "cell_type": "markdown",
   "id": "fb024b4b-ea52-4535-980c-5eff51d7c44c",
   "metadata": {},
   "source": [
    "### Model"
   ]
  },
  {
   "cell_type": "code",
   "execution_count": 10,
   "id": "a7535120-c4c9-49d4-a5fd-89b2c86c8f7f",
   "metadata": {},
   "outputs": [],
   "source": [
    "model = tf.keras.models.Sequential([\n",
    "    Dense(8, input_dim=13, activation=\"sigmoid\"), # HL1\n",
    "    Dense(8, activation=\"sigmoid\"), # HL2\n",
    "    Dense(4, activation=\"sigmoid\"), # HL3\n",
    "    Dense(1, activation=\"linear\") # OL\n",
    "])"
   ]
  },
  {
   "cell_type": "code",
   "execution_count": 11,
   "id": "6550d077-97ba-49d7-9dd7-2f7f6eeaa9db",
   "metadata": {},
   "outputs": [],
   "source": [
    "model.compile(optimizer=tf.keras.optimizers.SGD(learning_rate=0.001),\n",
    "              loss=tf.keras.losses.MeanSquaredError())"
   ]
  },
  {
   "cell_type": "code",
   "execution_count": 12,
   "id": "6cf97c3b-4817-4167-bb4f-1e8529ae3972",
   "metadata": {},
   "outputs": [
    {
     "name": "stdout",
     "output_type": "stream",
     "text": [
      "Model: \"sequential_1\"\n",
      "_________________________________________________________________\n",
      "Layer (type)                 Output Shape              Param #   \n",
      "=================================================================\n",
      "dense_4 (Dense)              (None, 8)                 112       \n",
      "_________________________________________________________________\n",
      "dense_5 (Dense)              (None, 8)                 72        \n",
      "_________________________________________________________________\n",
      "dense_6 (Dense)              (None, 4)                 36        \n",
      "_________________________________________________________________\n",
      "dense_7 (Dense)              (None, 1)                 5         \n",
      "=================================================================\n",
      "Total params: 225\n",
      "Trainable params: 225\n",
      "Non-trainable params: 0\n",
      "_________________________________________________________________\n"
     ]
    }
   ],
   "source": [
    "model.summary()"
   ]
  },
  {
   "cell_type": "markdown",
   "id": "f1351dd1-0f99-49d0-9e65-42b11f3694de",
   "metadata": {},
   "source": [
    "### Train"
   ]
  },
  {
   "cell_type": "code",
   "execution_count": 13,
   "id": "c30728d6-2108-482d-ae05-b21e18e2d337",
   "metadata": {},
   "outputs": [
    {
     "name": "stdout",
     "output_type": "stream",
     "text": [
      "Epoch 1/32\n",
      "13/13 [==============================] - 0s 847us/step - loss: 567.1244\n",
      "Epoch 2/32\n",
      "13/13 [==============================] - 0s 499us/step - loss: 504.5346\n",
      "Epoch 3/32\n",
      "13/13 [==============================] - 0s 499us/step - loss: 443.4167\n",
      "Epoch 4/32\n",
      "13/13 [==============================] - 0s 332us/step - loss: 383.6689\n",
      "Epoch 5/32\n",
      "13/13 [==============================] - 0s 499us/step - loss: 329.5242\n",
      "Epoch 6/32\n",
      "13/13 [==============================] - 0s 416us/step - loss: 283.7548\n",
      "Epoch 7/32\n",
      "13/13 [==============================] - 0s 416us/step - loss: 246.3443\n",
      "Epoch 8/32\n",
      "13/13 [==============================] - 0s 498us/step - loss: 215.1712\n",
      "Epoch 9/32\n",
      "13/13 [==============================] - 0s 416us/step - loss: 189.9926\n",
      "Epoch 10/32\n",
      "13/13 [==============================] - 0s 499us/step - loss: 169.8524\n",
      "Epoch 11/32\n",
      "13/13 [==============================] - 0s 332us/step - loss: 153.0873\n",
      "Epoch 12/32\n",
      "13/13 [==============================] - 0s 416us/step - loss: 139.8653\n",
      "Epoch 13/32\n",
      "13/13 [==============================] - 0s 416us/step - loss: 129.2996\n",
      "Epoch 14/32\n",
      "13/13 [==============================] - 0s 415us/step - loss: 120.6775\n",
      "Epoch 15/32\n",
      "13/13 [==============================] - 0s 499us/step - loss: 113.6711\n",
      "Epoch 16/32\n",
      "13/13 [==============================] - 0s 415us/step - loss: 107.9180\n",
      "Epoch 17/32\n",
      "13/13 [==============================] - 0s 416us/step - loss: 103.2688\n",
      "Epoch 18/32\n",
      "13/13 [==============================] - 0s 499us/step - loss: 99.6055\n",
      "Epoch 19/32\n",
      "13/13 [==============================] - 0s 416us/step - loss: 96.5568\n",
      "Epoch 20/32\n",
      "13/13 [==============================] - 0s 665us/step - loss: 94.1069\n",
      "Epoch 21/32\n",
      "13/13 [==============================] - 0s 665us/step - loss: 92.1683\n",
      "Epoch 22/32\n",
      "13/13 [==============================] - 0s 914us/step - loss: 90.6120\n",
      "Epoch 23/32\n",
      "13/13 [==============================] - 0s 831us/step - loss: 89.3547\n",
      "Epoch 24/32\n",
      "13/13 [==============================] - 0s 665us/step - loss: 88.2484\n",
      "Epoch 25/32\n",
      "13/13 [==============================] - 0s 791us/step - loss: 87.3982\n",
      "Epoch 26/32\n",
      "13/13 [==============================] - 0s 665us/step - loss: 86.6809\n",
      "Epoch 27/32\n",
      "13/13 [==============================] - 0s 831us/step - loss: 86.1815\n",
      "Epoch 28/32\n",
      "13/13 [==============================] - 0s 499us/step - loss: 85.7364\n",
      "Epoch 29/32\n",
      "13/13 [==============================] - 0s 499us/step - loss: 85.4096\n",
      "Epoch 30/32\n",
      "13/13 [==============================] - 0s 416us/step - loss: 85.1334\n",
      "Epoch 31/32\n",
      "13/13 [==============================] - 0s 582us/step - loss: 84.9375\n",
      "Epoch 32/32\n",
      "13/13 [==============================] - 0s 499us/step - loss: 84.7902\n"
     ]
    },
    {
     "data": {
      "text/plain": [
       "<keras.callbacks.History at 0x2530d6c6a90>"
      ]
     },
     "execution_count": 13,
     "metadata": {},
     "output_type": "execute_result"
    }
   ],
   "source": [
    "model.fit(X_train, Y_train, epochs=32)"
   ]
  },
  {
   "cell_type": "code",
   "execution_count": 1,
   "id": "7e734d9e-eb19-460c-a5a6-ea529cde602f",
   "metadata": {},
   "outputs": [
    {
     "ename": "NameError",
     "evalue": "name 'model' is not defined",
     "output_type": "error",
     "traceback": [
      "\u001b[1;31m---------------------------------------------------------------------------\u001b[0m",
      "\u001b[1;31mNameError\u001b[0m                                 Traceback (most recent call last)",
      "\u001b[1;32m~\\AppData\\Local\\Temp/ipykernel_10752/659655523.py\u001b[0m in \u001b[0;36m<module>\u001b[1;34m\u001b[0m\n\u001b[1;32m----> 1\u001b[1;33m \u001b[0mmodel\u001b[0m\u001b[1;33m.\u001b[0m\u001b[0mevaluate\u001b[0m\u001b[1;33m(\u001b[0m\u001b[0mX_test\u001b[0m\u001b[1;33m,\u001b[0m \u001b[0mY_test\u001b[0m\u001b[1;33m)\u001b[0m\u001b[1;33m\u001b[0m\u001b[1;33m\u001b[0m\u001b[0m\n\u001b[0m",
      "\u001b[1;31mNameError\u001b[0m: name 'model' is not defined"
     ]
    }
   ],
   "source": [
    "model.evaluate(X_test, Y_test)"
   ]
  },
  {
   "cell_type": "code",
   "execution_count": null,
   "id": "fa3d4ba1-9871-4c4f-a01d-282595d95116",
   "metadata": {},
   "outputs": [],
   "source": []
  }
 ],
 "metadata": {
  "kernelspec": {
   "display_name": "Python 3 (ipykernel)",
   "language": "python",
   "name": "python3"
  },
  "language_info": {
   "codemirror_mode": {
    "name": "ipython",
    "version": 3
   },
   "file_extension": ".py",
   "mimetype": "text/x-python",
   "name": "python",
   "nbconvert_exporter": "python",
   "pygments_lexer": "ipython3",
   "version": "3.9.7"
  }
 },
 "nbformat": 4,
 "nbformat_minor": 5
}
