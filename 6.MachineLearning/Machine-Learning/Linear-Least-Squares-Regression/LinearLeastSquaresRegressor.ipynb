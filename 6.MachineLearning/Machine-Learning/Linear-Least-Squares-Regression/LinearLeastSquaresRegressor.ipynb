{
 "cells": [
  {
   "cell_type": "code",
   "execution_count": 1,
   "id": "974f2fd0-61be-45a5-9172-51745885d1cb",
   "metadata": {},
   "outputs": [],
   "source": [
    "import numpy as np\n",
    "from numpy.linalg import inv\n",
    "from matplotlib import pyplot as plt\n",
    "import pandas as pd"
   ]
  },
  {
   "cell_type": "code",
   "execution_count": 2,
   "id": "9a650798-7e0d-426f-a51e-fb36f6396095",
   "metadata": {},
   "outputs": [],
   "source": [
    "def generate_data(N):\n",
    "    X = np.random.uniform(1, 40, N)\n",
    "    Y = X * 4 + np.random.normal(0, 8, N)\n",
    "    \n",
    "    X = X.reshape((-1,1))\n",
    "    Y = Y.reshape((-1,1))\n",
    "    print(X.shape)\n",
    "    print(Y.shape)\n",
    "\n",
    "    return X, Y"
   ]
  },
  {
   "cell_type": "code",
   "execution_count": 3,
   "id": "a0a046e6-2dfe-49c9-b578-5fa9706565be",
   "metadata": {},
   "outputs": [],
   "source": [
    "class LinearLeastSquaresRegressor:\n",
    "    def __init__(self):\n",
    "        pass\n",
    "    \n",
    "    def fit(self, X_train, Y_train):\n",
    "        # least square equation:\n",
    "        # w = (X.T*X)^-1 * X.T*Y\n",
    "        self.w = np.matmul(inv(np.matmul(X_train.T, X_train)), np.matmul(X_train.T,Y_train))\n",
    "        \n",
    "    def predict(self, X_test):\n",
    "        Y_pred = np.matmul(X_test, self.w)\n",
    "        return Y_pred\n",
    "    \n",
    "    def evaluate(self, X_test, Y_test):\n",
    "        # MAE\n",
    "        Y_pred = np.matmul(X_test, self.w)\n",
    "        subtract = np.abs(Y_test - Y_pred)\n",
    "        average = np.mean(subtract)\n",
    "        return average"
   ]
  },
  {
   "cell_type": "code",
   "execution_count": 4,
   "id": "a79b90c2-e6ee-4c0b-a4e6-36eb55f37e46",
   "metadata": {},
   "outputs": [
    {
     "name": "stdout",
     "output_type": "stream",
     "text": [
      "(100, 1)\n",
      "(100, 1)\n"
     ]
    },
    {
     "data": {
      "text/plain": [
       "<matplotlib.collections.PathCollection at 0x11f056d90>"
      ]
     },
     "execution_count": 4,
     "metadata": {},
     "output_type": "execute_result"
    },
    {
     "data": {
      "image/png": "[encoded data removed]",
      "text/plain": [
       "<Figure size 432x288 with 1 Axes>"
      ]
     },
     "metadata": {
      "needs_background": "light"
     },
     "output_type": "display_data"
    }
   ],
   "source": [
    "N = 100\n",
    "X_train, Y_train = generate_data(100)\n",
    "plt.scatter(X_train, Y_train)"
   ]
  },
  {
   "cell_type": "code",
   "execution_count": 5,
   "id": "10961cd6-8ae1-402b-b92e-3f00160cf39e",
   "metadata": {},
   "outputs": [
    {
     "data": {
      "text/plain": [
       "array([[3.96766765]])"
      ]
     },
     "execution_count": 5,
     "metadata": {},
     "output_type": "execute_result"
    }
   ],
   "source": [
    "model = LinearLeastSquaresRegressor()\n",
    "model.fit(X_train, Y_train)\n",
    "\n",
    "model.w"
   ]
  },
  {
   "cell_type": "code",
   "execution_count": 6,
   "id": "040e9a7d-add2-4a87-9f2c-290c1b16c100",
   "metadata": {},
   "outputs": [
    {
     "data": {
      "text/plain": [
       "[<matplotlib.lines.Line2D at 0x11f189b20>]"
      ]
     },
     "execution_count": 6,
     "metadata": {},
     "output_type": "execute_result"
    },
    {
     "data": {
      "image/png": "[encoded data removed]",
      "text/plain": [
       "<Figure size 432x288 with 1 Axes>"
      ]
     },
     "metadata": {
      "needs_background": "light"
     },
     "output_type": "display_data"
    }
   ],
   "source": [
    "Y_pred = model.predict(X_train)\n",
    "\n",
    "plt.scatter(X_train, Y_train, c='blue')\n",
    "plt.plot(X_train, Y_pred, c='red', lw=4)"
   ]
  },
  {
   "cell_type": "code",
   "execution_count": 7,
   "id": "66182133-89b8-400e-9895-65cc08362264",
   "metadata": {},
   "outputs": [
    {
     "name": "stdout",
     "output_type": "stream",
     "text": [
      "(200, 1)\n",
      "(200, 1)\n"
     ]
    }
   ],
   "source": [
    "N = 200\n",
    "X_test, Y_test = generate_data(N)"
   ]
  },
  {
   "cell_type": "code",
   "execution_count": 8,
   "id": "6e87a486-5753-419c-9f50-98fc1641c46e",
   "metadata": {},
   "outputs": [
    {
     "name": "stdout",
     "output_type": "stream",
     "text": [
      "6.192587665320357\n"
     ]
    }
   ],
   "source": [
    "loss = model.evaluate(X_test, Y_test)\n",
    "print(loss)"
   ]
  },
  {
   "cell_type": "code",
   "execution_count": 9,
   "id": "72cf7c55-f0b5-421c-879c-2d2a4663055b",
   "metadata": {},
   "outputs": [
    {
     "name": "stdout",
     "output_type": "stream",
     "text": [
      "[150.7713707]\n"
     ]
    }
   ],
   "source": [
    "x_test = np.array([38])\n",
    "y_pred = model.predict(x_test)\n",
    "print(y_pred)"
   ]
  }
 ],
 "metadata": {
  "kernelspec": {
   "display_name": "Python 3 (ipykernel)",
   "language": "python",
   "name": "python3"
  },
  "language_info": {
   "codemirror_mode": {
    "name": "ipython",
    "version": 3
   },
   "file_extension": ".py",
   "mimetype": "text/x-python",
   "name": "python",
   "nbconvert_exporter": "python",
   "pygments_lexer": "ipython3",
   "version": "3.9.6"
  }
 },
 "nbformat": 4,
 "nbformat_minor": 5
}
