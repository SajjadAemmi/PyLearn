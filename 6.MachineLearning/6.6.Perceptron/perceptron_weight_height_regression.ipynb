{
 "cells": [
  {
   "cell_type": "code",
   "execution_count": 1,
   "metadata": {},
   "outputs": [],
   "source": [
    "%matplotlib qt"
   ]
  },
  {
   "cell_type": "code",
   "execution_count": 2,
   "metadata": {},
   "outputs": [],
   "source": [
    "import numpy as np\n",
    "import pandas as pd\n",
    "import matplotlib.pyplot as plt\n",
    "from sklearn.model_selection import train_test_split"
   ]
  },
  {
   "cell_type": "code",
   "execution_count": 4,
   "metadata": {},
   "outputs": [
    {
     "data": {
      "text/html": [
       "<div>\n",
       "<style scoped>\n",
       "    .dataframe tbody tr th:only-of-type {\n",
       "        vertical-align: middle;\n",
       "    }\n",
       "\n",
       "    .dataframe tbody tr th {\n",
       "        vertical-align: top;\n",
       "    }\n",
       "\n",
       "    .dataframe thead th {\n",
       "        text-align: right;\n",
       "    }\n",
       "</style>\n",
       "<table border=\"1\" class=\"dataframe\">\n",
       "  <thead>\n",
       "    <tr style=\"text-align: right;\">\n",
       "      <th></th>\n",
       "      <th>Gender</th>\n",
       "      <th>Height</th>\n",
       "      <th>Weight</th>\n",
       "    </tr>\n",
       "  </thead>\n",
       "  <tbody>\n",
       "    <tr>\n",
       "      <th>0</th>\n",
       "      <td>Male</td>\n",
       "      <td>73.847017</td>\n",
       "      <td>241.893563</td>\n",
       "    </tr>\n",
       "    <tr>\n",
       "      <th>1</th>\n",
       "      <td>Male</td>\n",
       "      <td>68.781904</td>\n",
       "      <td>162.310473</td>\n",
       "    </tr>\n",
       "    <tr>\n",
       "      <th>2</th>\n",
       "      <td>Male</td>\n",
       "      <td>74.110105</td>\n",
       "      <td>212.740856</td>\n",
       "    </tr>\n",
       "    <tr>\n",
       "      <th>3</th>\n",
       "      <td>Male</td>\n",
       "      <td>71.730978</td>\n",
       "      <td>220.042470</td>\n",
       "    </tr>\n",
       "    <tr>\n",
       "      <th>4</th>\n",
       "      <td>Male</td>\n",
       "      <td>69.881796</td>\n",
       "      <td>206.349801</td>\n",
       "    </tr>\n",
       "  </tbody>\n",
       "</table>\n",
       "</div>"
      ],
      "text/plain": [
       "  Gender     Height      Weight\n",
       "0   Male  73.847017  241.893563\n",
       "1   Male  68.781904  162.310473\n",
       "2   Male  74.110105  212.740856\n",
       "3   Male  71.730978  220.042470\n",
       "4   Male  69.881796  206.349801"
      ]
     },
     "execution_count": 4,
     "metadata": {},
     "output_type": "execute_result"
    }
   ],
   "source": [
    "# Prepare Dataset\n",
    "data = pd.read_csv(\"weight-height.csv\")\n",
    "data.head()"
   ]
  },
  {
   "cell_type": "code",
   "execution_count": 7,
   "metadata": {},
   "outputs": [],
   "source": [
    "X = data[\"Height\"].values\n",
    "Y = data[\"Weight\"].values\n",
    "\n",
    "X = X.reshape(-1, 1)\n",
    "Y = Y.reshape(-1, 1)\n",
    "\n",
    "X_train, X_test, Y_train, Y_test = train_test_split(X, Y)"
   ]
  },
  {
   "cell_type": "code",
   "execution_count": 14,
   "metadata": {},
   "outputs": [],
   "source": [
    "# Hyper parameters\n",
    "η1 = 0.0001\n",
    "η2 = 0.1\n",
    "epochs = 30"
   ]
  },
  {
   "cell_type": "code",
   "execution_count": 18,
   "metadata": {},
   "outputs": [],
   "source": [
    "# Init\n",
    "W = np.random.rand(1, 1)\n",
    "b = np.random.rand(1, 1)"
   ]
  },
  {
   "cell_type": "code",
   "execution_count": 20,
   "metadata": {},
   "outputs": [],
   "source": [
    "losses_train = []\n",
    "losses_test = []\n",
    "fig, (ax1, ax2, ax3) = plt.subplots(1, 3)\n",
    "\n",
    "# Train\n",
    "for epoch in range(epochs):\n",
    "    for i in range(X_train.shape[0]):\n",
    "        x = X_train[i]\n",
    "        y = Y_train[i]\n",
    "\n",
    "        y_pred = x * W + b\n",
    "        error = y - y_pred\n",
    "\n",
    "        # update\n",
    "        W += η1 * error * x  \n",
    "        b += η2 * error\n",
    "\n",
    "    Y_pred_train = X_train * W + b\n",
    "    loss_train = np.mean((Y_train - Y_pred_train) ** 2)\n",
    "    losses_train.append(loss_train)\n",
    "\n",
    "    Y_pred_test = X_test * W + b\n",
    "    loss_test = np.mean((Y_test - Y_pred_test) ** 2)\n",
    "    losses_test.append(loss_test)\n",
    "\n",
    "    # Visualization    \n",
    "    # Show Data\n",
    "    ax1.clear()\n",
    "    ax1.scatter(X_train, Y_train, c='blue')\n",
    "    ax1.plot(X_train, Y_pred_train, c='red')\n",
    "    ax1.set_title(f\"Epoch: {epoch}\")\n",
    "    ax1.set_xlabel(\"Height\")\n",
    "    ax1.set_ylabel(\"Weight\")\n",
    "    # ax1.axis(ymin=0)\n",
    "    # ax1.axis(xmin=0)\n",
    "\n",
    "    # Show Loss\n",
    "    ax2.clear()\n",
    "    ax2.plot(losses_train)\n",
    "    ax2.set_title(f\"Loss Train: {losses_train[-1]}\")\n",
    "    ax2.set_xlabel(\"Epoch\")\n",
    "    ax2.set_ylabel(\"Loss\")\n",
    "\n",
    "    ax3.clear()\n",
    "    ax3.plot(losses_test)\n",
    "    ax3.set_title(f\"Loss Test: {losses_test[-1]}\")\n",
    "    ax3.set_xlabel(\"Epoch\")\n",
    "    ax3.set_ylabel(\"Loss\")\n",
    "    \n",
    "    plt.pause(0.01)\n",
    "\n",
    "plt.show()"
   ]
  }
 ],
 "metadata": {
  "kernelspec": {
   "display_name": "Python 3",
   "language": "python",
   "name": "python3"
  },
  "language_info": {
   "codemirror_mode": {
    "name": "ipython",
    "version": 3
   },
   "file_extension": ".py",
   "mimetype": "text/x-python",
   "name": "python",
   "nbconvert_exporter": "python",
   "pygments_lexer": "ipython3",
   "version": "3.11.2"
  },
  "orig_nbformat": 4
 },
 "nbformat": 4,
 "nbformat_minor": 2
}
